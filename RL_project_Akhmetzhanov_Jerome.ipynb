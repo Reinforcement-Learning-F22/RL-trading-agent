{
  "nbformat": 4,
  "nbformat_minor": 0,
  "metadata": {
    "colab": {
      "provenance": [],
      "collapsed_sections": []
    },
    "kernelspec": {
      "name": "python3",
      "display_name": "Python 3"
    },
    "language_info": {
      "name": "python"
    }
  },
  "cells": [
    {
      "cell_type": "markdown",
      "source": [
        "# 0. Install and Import dependencies"
      ],
      "metadata": {
        "id": "jS7AVIPyKJTC"
      }
    },
    {
      "cell_type": "markdown",
      "source": [
        "We will use the most advanced environment for RL-trading task - DI-engine/gym-anytrade. It's a part of DI-engine RL framework, which contains a lot of environments inside."
      ],
      "metadata": {
        "id": "8E2d3x4CODWV"
      }
    },
    {
      "cell_type": "code",
      "execution_count": null,
      "metadata": {
        "colab": {
          "base_uri": "https://localhost:8080/"
        },
        "id": "_ATpJ4CRJ1Hf",
        "outputId": "85dda76b-1564-4668-eac9-182add9eefd0"
      },
      "outputs": [
        {
          "output_type": "stream",
          "name": "stdout",
          "text": [
            "Cloning into 'DI-engine'...\n",
            "remote: Enumerating objects: 27485, done.\u001b[K\n",
            "remote: Counting objects: 100% (1682/1682), done.\u001b[K\n",
            "remote: Compressing objects: 100% (702/702), done.\u001b[K\n",
            "remote: Total 27485 (delta 1108), reused 1404 (delta 969), pack-reused 25803\u001b[K\n",
            "Receiving objects: 100% (27485/27485), 232.21 MiB | 26.74 MiB/s, done.\n",
            "Resolving deltas: 100% (19204/19204), done.\n",
            "Looking in indexes: https://pypi.org/simple, https://us-python.pkg.dev/colab-wheels/public/simple/\n",
            "Processing ./DI-engine\n",
            "\u001b[33m  DEPRECATION: A future pip version will change local packages to be built in-place without first copying to a temporary directory. We recommend you use --use-feature=in-tree-build to test your packages with this new behavior before it becomes the default.\n",
            "   pip 21.3 will remove support for this functionality. You can find discussion regarding this at https://github.com/pypa/pip/issues/7555.\u001b[0m\n",
            "Requirement already satisfied: gym<0.26.0,>=0.25.1 in /usr/local/lib/python3.7/dist-packages (from DI-engine==0.4.4) (0.25.2)\n",
            "Requirement already satisfied: torch<=1.12.1,>=1.1.0 in /usr/local/lib/python3.7/dist-packages (from DI-engine==0.4.4) (1.12.1+cu113)\n",
            "Requirement already satisfied: numpy>=1.18.0 in /usr/local/lib/python3.7/dist-packages (from DI-engine==0.4.4) (1.21.6)\n",
            "Requirement already satisfied: pandas in /usr/local/lib/python3.7/dist-packages (from DI-engine==0.4.4) (1.3.5)\n",
            "Requirement already satisfied: tensorboardX>=2.2 in /usr/local/lib/python3.7/dist-packages (from DI-engine==0.4.4) (2.5.1)\n",
            "Requirement already satisfied: requests>=2.25.1 in /usr/local/lib/python3.7/dist-packages (from DI-engine==0.4.4) (2.28.1)\n",
            "Requirement already satisfied: pyyaml in /usr/local/lib/python3.7/dist-packages (from DI-engine==0.4.4) (6.0)\n",
            "Requirement already satisfied: easydict==1.9 in /usr/local/lib/python3.7/dist-packages (from DI-engine==0.4.4) (1.9)\n",
            "Requirement already satisfied: protobuf in /usr/local/lib/python3.7/dist-packages (from DI-engine==0.4.4) (3.17.3)\n",
            "Requirement already satisfied: yapf==0.29.0 in /usr/local/lib/python3.7/dist-packages (from DI-engine==0.4.4) (0.29.0)\n",
            "Requirement already satisfied: flask~=1.1.2 in /usr/local/lib/python3.7/dist-packages (from DI-engine==0.4.4) (1.1.4)\n",
            "Requirement already satisfied: tqdm in /usr/local/lib/python3.7/dist-packages (from DI-engine==0.4.4) (4.64.1)\n",
            "Requirement already satisfied: lz4 in /usr/local/lib/python3.7/dist-packages (from DI-engine==0.4.4) (4.0.2)\n",
            "Requirement already satisfied: scipy in /usr/local/lib/python3.7/dist-packages (from DI-engine==0.4.4) (1.7.3)\n",
            "Requirement already satisfied: cloudpickle in /usr/local/lib/python3.7/dist-packages (from DI-engine==0.4.4) (1.5.0)\n",
            "Requirement already satisfied: tabulate in /usr/local/lib/python3.7/dist-packages (from DI-engine==0.4.4) (0.8.10)\n",
            "Requirement already satisfied: click>=7.0.0 in /usr/local/lib/python3.7/dist-packages (from DI-engine==0.4.4) (7.1.2)\n",
            "Requirement already satisfied: URLObject>=2.4.0 in /usr/local/lib/python3.7/dist-packages (from DI-engine==0.4.4) (2.4.3)\n",
            "Requirement already satisfied: urllib3>=1.26.5 in /usr/local/lib/python3.7/dist-packages (from DI-engine==0.4.4) (1.26.12)\n",
            "Requirement already satisfied: responses~=0.12.1 in /usr/local/lib/python3.7/dist-packages (from DI-engine==0.4.4) (0.12.1)\n",
            "Requirement already satisfied: readerwriterlock in /usr/local/lib/python3.7/dist-packages (from DI-engine==0.4.4) (1.0.9)\n",
            "Requirement already satisfied: enum_tools in /usr/local/lib/python3.7/dist-packages (from DI-engine==0.4.4) (0.9.0.post1)\n",
            "Requirement already satisfied: trueskill in /usr/local/lib/python3.7/dist-packages (from DI-engine==0.4.4) (0.4.5)\n",
            "Requirement already satisfied: h5py in /usr/local/lib/python3.7/dist-packages (from DI-engine==0.4.4) (3.1.0)\n",
            "Requirement already satisfied: mpire>=2.3.5 in /usr/local/lib/python3.7/dist-packages (from DI-engine==0.4.4) (2.6.0)\n",
            "Requirement already satisfied: pynng in /usr/local/lib/python3.7/dist-packages (from DI-engine==0.4.4) (0.7.1)\n",
            "Requirement already satisfied: redis in /usr/local/lib/python3.7/dist-packages (from DI-engine==0.4.4) (4.3.4)\n",
            "Requirement already satisfied: pettingzoo==1.12.0 in /usr/local/lib/python3.7/dist-packages (from DI-engine==0.4.4) (1.12.0)\n",
            "Requirement already satisfied: DI-treetensor>=0.4.0 in /usr/local/lib/python3.7/dist-packages (from DI-engine==0.4.4) (0.4.0)\n",
            "Requirement already satisfied: DI-toolkit>=0.0.2 in /usr/local/lib/python3.7/dist-packages (from DI-engine==0.4.4) (0.0.2)\n",
            "Requirement already satisfied: hbutils>=0.5.0 in /usr/local/lib/python3.7/dist-packages (from DI-engine==0.4.4) (0.7.5)\n",
            "Requirement already satisfied: wandb in /usr/local/lib/python3.7/dist-packages (from DI-engine==0.4.4) (0.13.4)\n",
            "Requirement already satisfied: matplotlib in /usr/local/lib/python3.7/dist-packages (from DI-engine==0.4.4) (3.2.2)\n",
            "Requirement already satisfied: MarkupSafe==2.0.1 in /usr/local/lib/python3.7/dist-packages (from DI-engine==0.4.4) (2.0.1)\n",
            "Requirement already satisfied: scikit-learn in /usr/local/lib/python3.7/dist-packages (from DI-engine==0.4.4) (1.0.2)\n",
            "Requirement already satisfied: rich>=12.2.0 in /usr/local/lib/python3.7/dist-packages (from DI-toolkit>=0.0.2->DI-engine==0.4.4) (12.6.0)\n",
            "Requirement already satisfied: inflection>=0.5.1 in /usr/local/lib/python3.7/dist-packages (from DI-toolkit>=0.0.2->DI-engine==0.4.4) (0.5.1)\n",
            "Requirement already satisfied: treevalue>=1.4.1 in /usr/local/lib/python3.7/dist-packages (from DI-treetensor>=0.4.0->DI-engine==0.4.4) (1.4.1)\n",
            "Requirement already satisfied: Jinja2<3.0,>=2.10.1 in /usr/local/lib/python3.7/dist-packages (from flask~=1.1.2->DI-engine==0.4.4) (2.11.3)\n",
            "Requirement already satisfied: Werkzeug<2.0,>=0.15 in /usr/local/lib/python3.7/dist-packages (from flask~=1.1.2->DI-engine==0.4.4) (1.0.1)\n",
            "Requirement already satisfied: itsdangerous<2.0,>=0.24 in /usr/local/lib/python3.7/dist-packages (from flask~=1.1.2->DI-engine==0.4.4) (1.1.0)\n",
            "Requirement already satisfied: gym-notices>=0.0.4 in /usr/local/lib/python3.7/dist-packages (from gym<0.26.0,>=0.25.1->DI-engine==0.4.4) (0.0.8)\n",
            "Requirement already satisfied: importlib-metadata>=4.8.0 in /usr/local/lib/python3.7/dist-packages (from gym<0.26.0,>=0.25.1->DI-engine==0.4.4) (4.13.0)\n",
            "Requirement already satisfied: packaging>=21.3 in /usr/local/lib/python3.7/dist-packages (from hbutils>=0.5.0->DI-engine==0.4.4) (21.3)\n",
            "Requirement already satisfied: inflect>=5.2.0 in /usr/local/lib/python3.7/dist-packages (from hbutils>=0.5.0->DI-engine==0.4.4) (6.0.2)\n",
            "Requirement already satisfied: pytimeparse>=1.1.8 in /usr/local/lib/python3.7/dist-packages (from hbutils>=0.5.0->DI-engine==0.4.4) (1.1.8)\n",
            "Requirement already satisfied: bitmath>=1.3.3.1 in /usr/local/lib/python3.7/dist-packages (from hbutils>=0.5.0->DI-engine==0.4.4) (1.3.3.1)\n",
            "Requirement already satisfied: chardet<5,>=3.0.4 in /usr/local/lib/python3.7/dist-packages (from hbutils>=0.5.0->DI-engine==0.4.4) (3.0.4)\n",
            "Requirement already satisfied: typing-extensions>=3.6.4 in /usr/local/lib/python3.7/dist-packages (from importlib-metadata>=4.8.0->gym<0.26.0,>=0.25.1->DI-engine==0.4.4) (4.1.1)\n",
            "Requirement already satisfied: zipp>=0.5 in /usr/local/lib/python3.7/dist-packages (from importlib-metadata>=4.8.0->gym<0.26.0,>=0.25.1->DI-engine==0.4.4) (3.10.0)\n",
            "Requirement already satisfied: pydantic>=1.9.1 in /usr/local/lib/python3.7/dist-packages (from inflect>=5.2.0->hbutils>=0.5.0->DI-engine==0.4.4) (1.10.2)\n",
            "Requirement already satisfied: pygments>=2.0 in /usr/local/lib/python3.7/dist-packages (from mpire>=2.3.5->DI-engine==0.4.4) (2.6.1)\n",
            "Requirement already satisfied: pyparsing!=3.0.5,>=2.0.2 in /usr/local/lib/python3.7/dist-packages (from packaging>=21.3->hbutils>=0.5.0->DI-engine==0.4.4) (3.0.9)\n",
            "Requirement already satisfied: certifi>=2017.4.17 in /usr/local/lib/python3.7/dist-packages (from requests>=2.25.1->DI-engine==0.4.4) (2022.9.24)\n",
            "Requirement already satisfied: charset-normalizer<3,>=2 in /usr/local/lib/python3.7/dist-packages (from requests>=2.25.1->DI-engine==0.4.4) (2.1.1)\n",
            "Requirement already satisfied: idna<4,>=2.5 in /usr/local/lib/python3.7/dist-packages (from requests>=2.25.1->DI-engine==0.4.4) (2.10)\n",
            "Requirement already satisfied: six in /usr/local/lib/python3.7/dist-packages (from responses~=0.12.1->DI-engine==0.4.4) (1.15.0)\n",
            "Requirement already satisfied: commonmark<0.10.0,>=0.9.0 in /usr/local/lib/python3.7/dist-packages (from rich>=12.2.0->DI-toolkit>=0.0.2->DI-engine==0.4.4) (0.9.1)\n",
            "Requirement already satisfied: graphviz~=0.17 in /usr/local/lib/python3.7/dist-packages (from treevalue>=1.4.1->DI-treetensor>=0.4.0->DI-engine==0.4.4) (0.20.1)\n",
            "Requirement already satisfied: dill~=0.3.4 in /usr/local/lib/python3.7/dist-packages (from treevalue>=1.4.1->DI-treetensor>=0.4.0->DI-engine==0.4.4) (0.3.6)\n",
            "Requirement already satisfied: cached-property in /usr/local/lib/python3.7/dist-packages (from h5py->DI-engine==0.4.4) (1.5.2)\n",
            "Requirement already satisfied: cycler>=0.10 in /usr/local/lib/python3.7/dist-packages (from matplotlib->DI-engine==0.4.4) (0.11.0)\n",
            "Requirement already satisfied: kiwisolver>=1.0.1 in /usr/local/lib/python3.7/dist-packages (from matplotlib->DI-engine==0.4.4) (1.4.4)\n",
            "Requirement already satisfied: python-dateutil>=2.1 in /usr/local/lib/python3.7/dist-packages (from matplotlib->DI-engine==0.4.4) (2.8.2)\n",
            "Requirement already satisfied: pytz>=2017.3 in /usr/local/lib/python3.7/dist-packages (from pandas->DI-engine==0.4.4) (2022.5)\n",
            "Requirement already satisfied: cffi in /usr/local/lib/python3.7/dist-packages (from pynng->DI-engine==0.4.4) (1.15.1)\n",
            "Requirement already satisfied: sniffio in /usr/local/lib/python3.7/dist-packages (from pynng->DI-engine==0.4.4) (1.3.0)\n",
            "Requirement already satisfied: pycparser in /usr/local/lib/python3.7/dist-packages (from cffi->pynng->DI-engine==0.4.4) (2.21)\n",
            "Requirement already satisfied: async-timeout>=4.0.2 in /usr/local/lib/python3.7/dist-packages (from redis->DI-engine==0.4.4) (4.0.2)\n",
            "Requirement already satisfied: deprecated>=1.2.3 in /usr/local/lib/python3.7/dist-packages (from redis->DI-engine==0.4.4) (1.2.13)\n",
            "Requirement already satisfied: wrapt<2,>=1.10 in /usr/local/lib/python3.7/dist-packages (from deprecated>=1.2.3->redis->DI-engine==0.4.4) (1.14.1)\n",
            "Requirement already satisfied: joblib>=0.11 in /usr/local/lib/python3.7/dist-packages (from scikit-learn->DI-engine==0.4.4) (1.2.0)\n",
            "Requirement already satisfied: threadpoolctl>=2.0.0 in /usr/local/lib/python3.7/dist-packages (from scikit-learn->DI-engine==0.4.4) (3.1.0)\n",
            "Requirement already satisfied: sentry-sdk>=1.0.0 in /usr/local/lib/python3.7/dist-packages (from wandb->DI-engine==0.4.4) (1.10.1)\n",
            "Requirement already satisfied: setproctitle in /usr/local/lib/python3.7/dist-packages (from wandb->DI-engine==0.4.4) (1.3.2)\n",
            "Requirement already satisfied: pathtools in /usr/local/lib/python3.7/dist-packages (from wandb->DI-engine==0.4.4) (0.1.2)\n",
            "Requirement already satisfied: shortuuid>=0.5.0 in /usr/local/lib/python3.7/dist-packages (from wandb->DI-engine==0.4.4) (1.0.9)\n",
            "Requirement already satisfied: docker-pycreds>=0.4.0 in /usr/local/lib/python3.7/dist-packages (from wandb->DI-engine==0.4.4) (0.4.0)\n",
            "Requirement already satisfied: psutil>=5.0.0 in /usr/local/lib/python3.7/dist-packages (from wandb->DI-engine==0.4.4) (5.4.8)\n",
            "Requirement already satisfied: promise<3,>=2.0 in /usr/local/lib/python3.7/dist-packages (from wandb->DI-engine==0.4.4) (2.3)\n",
            "Requirement already satisfied: GitPython>=1.0.0 in /usr/local/lib/python3.7/dist-packages (from wandb->DI-engine==0.4.4) (3.1.29)\n",
            "Requirement already satisfied: setuptools in /usr/local/lib/python3.7/dist-packages (from wandb->DI-engine==0.4.4) (57.4.0)\n",
            "Requirement already satisfied: gitdb<5,>=4.0.1 in /usr/local/lib/python3.7/dist-packages (from GitPython>=1.0.0->wandb->DI-engine==0.4.4) (4.0.9)\n",
            "Requirement already satisfied: smmap<6,>=3.0.1 in /usr/local/lib/python3.7/dist-packages (from gitdb<5,>=4.0.1->GitPython>=1.0.0->wandb->DI-engine==0.4.4) (5.0.0)\n",
            "Building wheels for collected packages: DI-engine\n",
            "  Building wheel for DI-engine (setup.py) ... \u001b[?25l\u001b[?25hdone\n",
            "  Created wheel for DI-engine: filename=DI_engine-0.4.4-py3-none-any.whl size=1836395 sha256=e24e344c0db5367cd7e680d56d7c0647f88f1565d181fcc39f6fe17b356b7968\n",
            "  Stored in directory: /root/.cache/pip/wheels/b1/bf/8f/8c2982441132bc86d15af2665fed06ae2ec0c30c71550b63c8\n",
            "Successfully built DI-engine\n",
            "Installing collected packages: DI-engine\n",
            "  Attempting uninstall: DI-engine\n",
            "    Found existing installation: DI-engine 0.4.4\n",
            "    Uninstalling DI-engine-0.4.4:\n",
            "      Successfully uninstalled DI-engine-0.4.4\n",
            "Successfully installed DI-engine-0.4.4\n"
          ]
        }
      ],
      "source": [
        "!git clone https://github.com/opendilab/DI-engine.git\n",
        "!pip install DI-engine/."
      ]
    },
    {
      "cell_type": "markdown",
      "source": [
        "Installation Check"
      ],
      "metadata": {
        "id": "X6q_2LtsOmKf"
      }
    },
    {
      "cell_type": "code",
      "source": [
        "import ding\n",
        "print(ding.__version__)"
      ],
      "metadata": {
        "colab": {
          "base_uri": "https://localhost:8080/"
        },
        "id": "edDFFEXQN9RU",
        "outputId": "134adc5f-a00a-4893-e811-d0c25fa2431f"
      },
      "execution_count": null,
      "outputs": [
        {
          "output_type": "stream",
          "name": "stdout",
          "text": [
            "v0.4.4\n"
          ]
        }
      ]
    }
  ]
}