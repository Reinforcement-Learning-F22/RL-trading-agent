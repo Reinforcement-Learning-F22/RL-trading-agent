{
 "cells": [
  {
   "cell_type": "markdown",
   "metadata": {
    "id": "jS7AVIPyKJTC"
   },
   "source": [
    "# 0. Install and Import dependencies"
   ]
  },
  {
   "cell_type": "markdown",
   "metadata": {
    "id": "8E2d3x4CODWV"
   },
   "source": [
    "We will use the most advanced environment for RL-trading task - DI-engine/gym-anytrade. It's a part of DI-engine RL framework, which contains a lot of environments inside."
   ]
  },
  {
   "cell_type": "markdown",
   "metadata": {},
   "source": [
    "**Important notes: tensorflow==1.15.0 works only with Python 3.7 and below**"
   ]
  },
  {
   "cell_type": "code",
   "execution_count": 1,
   "metadata": {
    "colab": {
     "base_uri": "https://localhost:8080/"
    },
    "id": "_ATpJ4CRJ1Hf",
    "outputId": "85dda76b-1564-4668-eac9-182add9eefd0"
   },
   "outputs": [
    {
     "name": "stdout",
     "output_type": "stream",
     "text": [
      "Processing ./DI-engine\n",
      "  Preparing metadata (setup.py) ... \u001b[?25ldone\n",
      "\u001b[?25hCollecting gym<0.26.0,>=0.25.1\n",
      "  Using cached gym-0.25.2-py3-none-any.whl\n",
      "Collecting torch<=1.12.1,>=1.1.0\n",
      "  Using cached torch-1.12.1-cp37-cp37m-manylinux1_x86_64.whl (776.3 MB)\n",
      "Collecting numpy>=1.18.0\n",
      "  Using cached numpy-1.21.6-cp37-cp37m-manylinux_2_12_x86_64.manylinux2010_x86_64.whl (15.7 MB)\n",
      "Collecting pandas\n",
      "  Using cached pandas-1.3.5-cp37-cp37m-manylinux_2_17_x86_64.manylinux2014_x86_64.whl (11.3 MB)\n",
      "Collecting tensorboardX>=2.2\n",
      "  Using cached tensorboardX-2.5.1-py2.py3-none-any.whl (125 kB)\n",
      "Collecting requests>=2.25.1\n",
      "  Using cached requests-2.28.1-py3-none-any.whl (62 kB)\n",
      "Collecting pyyaml\n",
      "  Using cached PyYAML-6.0-cp37-cp37m-manylinux_2_5_x86_64.manylinux1_x86_64.manylinux_2_12_x86_64.manylinux2010_x86_64.whl (596 kB)\n",
      "Collecting easydict==1.9\n",
      "  Using cached easydict-1.9-py3-none-any.whl\n",
      "Collecting protobuf\n",
      "  Using cached protobuf-4.21.9-cp37-abi3-manylinux2014_x86_64.whl (408 kB)\n",
      "Collecting yapf==0.29.0\n",
      "  Using cached yapf-0.29.0-py2.py3-none-any.whl (185 kB)\n",
      "Collecting flask~=1.1.2\n",
      "  Using cached Flask-1.1.4-py2.py3-none-any.whl (94 kB)\n",
      "Collecting tqdm\n",
      "  Using cached tqdm-4.64.1-py2.py3-none-any.whl (78 kB)\n",
      "Collecting lz4\n",
      "  Using cached lz4-4.0.2-cp37-cp37m-manylinux_2_17_x86_64.manylinux2014_x86_64.whl (1.2 MB)\n",
      "Collecting scipy\n",
      "  Using cached scipy-1.7.3-cp37-cp37m-manylinux_2_12_x86_64.manylinux2010_x86_64.whl (38.1 MB)\n",
      "Collecting cloudpickle\n",
      "  Using cached cloudpickle-2.2.0-py3-none-any.whl (25 kB)\n",
      "Collecting tabulate\n",
      "  Using cached tabulate-0.9.0-py3-none-any.whl (35 kB)\n",
      "Collecting click>=7.0.0\n",
      "  Using cached click-8.1.3-py3-none-any.whl (96 kB)\n",
      "Collecting URLObject>=2.4.0\n",
      "  Using cached URLObject-2.4.3-py3-none-any.whl\n",
      "Collecting urllib3>=1.26.5\n",
      "  Using cached urllib3-1.26.12-py2.py3-none-any.whl (140 kB)\n",
      "Collecting responses~=0.12.1\n",
      "  Using cached responses-0.12.1-py2.py3-none-any.whl (16 kB)\n",
      "Collecting readerwriterlock\n",
      "  Using cached readerwriterlock-1.0.9-py3-none-any.whl (10.0 kB)\n",
      "Collecting enum_tools\n",
      "  Using cached enum_tools-0.9.0.post1-py3-none-any.whl (61 kB)\n",
      "Collecting trueskill\n",
      "  Using cached trueskill-0.4.5-py3-none-any.whl\n",
      "Collecting h5py\n",
      "  Using cached h5py-3.7.0-cp37-cp37m-manylinux_2_12_x86_64.manylinux2010_x86_64.whl (4.1 MB)\n",
      "Collecting mpire>=2.3.5\n",
      "  Using cached mpire-2.6.0-py3-none-any.whl (291 kB)\n",
      "Collecting pynng\n",
      "  Using cached pynng-0.7.1-cp37-cp37m-manylinux2010_x86_64.whl (843 kB)\n",
      "Collecting redis\n",
      "  Using cached redis-4.3.4-py3-none-any.whl (246 kB)\n",
      "Collecting pettingzoo==1.12.0\n",
      "  Using cached PettingZoo-1.12.0-py3-none-any.whl\n",
      "Collecting DI-treetensor>=0.4.0\n",
      "  Using cached DI_treetensor-0.4.0-py3-none-any.whl (46 kB)\n",
      "Collecting DI-toolkit>=0.0.2\n",
      "  Using cached DI_toolkit-0.0.2-py3-none-any.whl (31 kB)\n",
      "Collecting hbutils>=0.5.0\n",
      "  Using cached hbutils-0.7.5-py3-none-any.whl (112 kB)\n",
      "Collecting wandb\n",
      "  Using cached wandb-0.13.5-py2.py3-none-any.whl (1.9 MB)\n",
      "Collecting matplotlib\n",
      "  Using cached matplotlib-3.5.3-cp37-cp37m-manylinux_2_5_x86_64.manylinux1_x86_64.whl (11.2 MB)\n",
      "Collecting MarkupSafe==2.0.1\n",
      "  Using cached MarkupSafe-2.0.1-cp37-cp37m-manylinux_2_5_x86_64.manylinux1_x86_64.manylinux_2_12_x86_64.manylinux2010_x86_64.whl (31 kB)\n",
      "Collecting scikit-learn\n",
      "  Using cached scikit_learn-1.0.2-cp37-cp37m-manylinux_2_17_x86_64.manylinux2014_x86_64.whl (24.8 MB)\n",
      "Collecting importlib-metadata\n",
      "  Using cached importlib_metadata-5.0.0-py3-none-any.whl (21 kB)\n",
      "Collecting inflection>=0.5.1\n",
      "  Using cached inflection-0.5.1-py2.py3-none-any.whl (9.5 kB)\n",
      "Collecting rich>=12.2.0\n",
      "  Using cached rich-12.6.0-py3-none-any.whl (237 kB)\n",
      "Collecting treevalue>=1.4.1\n",
      "  Using cached treevalue-1.4.1-cp37-cp37m-manylinux_2_17_x86_64.manylinux2014_x86_64.whl (2.4 MB)\n",
      "Collecting click>=7.0.0\n",
      "  Using cached click-7.1.2-py2.py3-none-any.whl (82 kB)\n",
      "Collecting Jinja2<3.0,>=2.10.1\n",
      "  Using cached Jinja2-2.11.3-py2.py3-none-any.whl (125 kB)\n",
      "Collecting Werkzeug<2.0,>=0.15\n",
      "  Using cached Werkzeug-1.0.1-py2.py3-none-any.whl (298 kB)\n",
      "Collecting itsdangerous<2.0,>=0.24\n",
      "  Using cached itsdangerous-1.1.0-py2.py3-none-any.whl (16 kB)\n",
      "Collecting gym-notices>=0.0.4\n",
      "  Using cached gym_notices-0.0.8-py3-none-any.whl (3.0 kB)\n",
      "Collecting inflect>=5.2.0\n",
      "  Using cached inflect-6.0.2-py3-none-any.whl (34 kB)\n",
      "Collecting pytimeparse>=1.1.8\n",
      "  Using cached pytimeparse-1.1.8-py2.py3-none-any.whl (10.0 kB)\n",
      "Collecting bitmath>=1.3.3.1\n",
      "  Using cached bitmath-1.3.3.1-py3-none-any.whl\n",
      "Collecting chardet<5,>=3.0.4\n",
      "  Using cached chardet-4.0.0-py2.py3-none-any.whl (178 kB)\n",
      "Requirement already satisfied: packaging>=21.3 in ./venv/lib/python3.7/site-packages (from hbutils>=0.5.0->DI-engine==0.4.4) (21.3)\n",
      "Requirement already satisfied: pygments>=2.0 in ./venv/lib/python3.7/site-packages (from mpire>=2.3.5->DI-engine==0.4.4) (2.13.0)\n",
      "Collecting idna<4,>=2.5\n",
      "  Using cached idna-3.4-py3-none-any.whl (61 kB)\n",
      "Collecting charset-normalizer<3,>=2\n",
      "  Using cached charset_normalizer-2.1.1-py3-none-any.whl (39 kB)\n",
      "Collecting certifi>=2017.4.17\n",
      "  Using cached certifi-2022.9.24-py3-none-any.whl (161 kB)\n",
      "Requirement already satisfied: six in ./venv/lib/python3.7/site-packages (from responses~=0.12.1->DI-engine==0.4.4) (1.16.0)\n",
      "Collecting protobuf\n",
      "  Using cached protobuf-3.20.1-cp37-cp37m-manylinux_2_5_x86_64.manylinux1_x86_64.whl (1.0 MB)\n",
      "Collecting typing-extensions\n",
      "  Using cached typing_extensions-4.4.0-py3-none-any.whl (26 kB)\n",
      "Requirement already satisfied: pyparsing>=2.2.1 in ./venv/lib/python3.7/site-packages (from matplotlib->DI-engine==0.4.4) (3.0.9)\n",
      "Requirement already satisfied: python-dateutil>=2.7 in ./venv/lib/python3.7/site-packages (from matplotlib->DI-engine==0.4.4) (2.8.2)\n",
      "Collecting kiwisolver>=1.0.1\n",
      "  Using cached kiwisolver-1.4.4-cp37-cp37m-manylinux_2_5_x86_64.manylinux1_x86_64.whl (1.1 MB)\n",
      "Collecting cycler>=0.10\n",
      "  Using cached cycler-0.11.0-py3-none-any.whl (6.4 kB)\n",
      "Collecting fonttools>=4.22.0\n",
      "  Using cached fonttools-4.38.0-py3-none-any.whl (965 kB)\n",
      "Collecting pillow>=6.2.0\n",
      "  Using cached Pillow-9.3.0-cp37-cp37m-manylinux_2_28_x86_64.whl (3.3 MB)\n",
      "Collecting pytz>=2017.3\n",
      "  Using cached pytz-2022.6-py2.py3-none-any.whl (498 kB)\n",
      "Collecting sniffio\n",
      "  Using cached sniffio-1.3.0-py3-none-any.whl (10 kB)\n",
      "Collecting cffi\n",
      "  Using cached cffi-1.15.1-cp37-cp37m-manylinux_2_17_x86_64.manylinux2014_x86_64.whl (427 kB)\n",
      "Collecting deprecated>=1.2.3\n",
      "  Using cached Deprecated-1.2.13-py2.py3-none-any.whl (9.6 kB)\n",
      "Collecting async-timeout>=4.0.2\n",
      "  Using cached async_timeout-4.0.2-py3-none-any.whl (5.8 kB)\n",
      "Collecting threadpoolctl>=2.0.0\n",
      "  Using cached threadpoolctl-3.1.0-py3-none-any.whl (14 kB)\n",
      "Collecting joblib>=0.11\n",
      "  Using cached joblib-1.2.0-py3-none-any.whl (297 kB)\n",
      "Collecting pathtools\n",
      "  Using cached pathtools-0.1.2-py3-none-any.whl\n",
      "Requirement already satisfied: psutil>=5.0.0 in ./venv/lib/python3.7/site-packages (from wandb->DI-engine==0.4.4) (5.9.3)\n",
      "Collecting setproctitle\n",
      "  Using cached setproctitle-1.3.2-cp37-cp37m-manylinux_2_5_x86_64.manylinux1_x86_64.manylinux_2_17_x86_64.manylinux2014_x86_64.whl (30 kB)\n",
      "Collecting GitPython>=1.0.0\n",
      "  Using cached GitPython-3.1.29-py3-none-any.whl (182 kB)\n",
      "Collecting promise<3,>=2.0\n",
      "  Using cached promise-2.3-py3-none-any.whl\n",
      "Collecting sentry-sdk>=1.0.0\n",
      "  Using cached sentry_sdk-1.10.1-py2.py3-none-any.whl (166 kB)\n",
      "Collecting shortuuid>=0.5.0\n",
      "  Using cached shortuuid-1.0.9-py3-none-any.whl (9.4 kB)\n",
      "Requirement already satisfied: setuptools in ./venv/lib/python3.7/site-packages (from wandb->DI-engine==0.4.4) (65.5.0)\n",
      "Collecting docker-pycreds>=0.4.0\n",
      "  Using cached docker_pycreds-0.4.0-py2.py3-none-any.whl (9.0 kB)\n",
      "Collecting wrapt<2,>=1.10\n",
      "  Using cached wrapt-1.14.1-cp37-cp37m-manylinux_2_5_x86_64.manylinux1_x86_64.manylinux_2_17_x86_64.manylinux2014_x86_64.whl (75 kB)\n",
      "Collecting gitdb<5,>=4.0.1\n",
      "  Using cached gitdb-4.0.9-py3-none-any.whl (63 kB)\n",
      "Collecting zipp>=0.5\n",
      "  Using cached zipp-3.10.0-py3-none-any.whl (6.2 kB)\n",
      "Collecting pydantic>=1.9.1\n",
      "  Using cached pydantic-1.10.2-cp37-cp37m-manylinux_2_17_x86_64.manylinux2014_x86_64.whl (11.8 MB)\n",
      "Collecting commonmark<0.10.0,>=0.9.0\n",
      "  Using cached commonmark-0.9.1-py2.py3-none-any.whl (51 kB)\n",
      "Collecting dill~=0.3.4\n",
      "  Using cached dill-0.3.6-py3-none-any.whl (110 kB)\n",
      "Collecting graphviz~=0.17\n",
      "  Using cached graphviz-0.20.1-py3-none-any.whl (47 kB)\n",
      "Collecting pycparser\n",
      "  Using cached pycparser-2.21-py2.py3-none-any.whl (118 kB)\n",
      "Collecting smmap<6,>=3.0.1\n",
      "  Using cached smmap-5.0.0-py3-none-any.whl (24 kB)\n",
      "Building wheels for collected packages: DI-engine\n",
      "  Building wheel for DI-engine (setup.py) ... \u001b[?25ldone\n",
      "\u001b[?25h  Created wheel for DI-engine: filename=DI_engine-0.4.4-py3-none-any.whl size=1836376 sha256=8ce8ff83035ce308e9dbe5b25b5df5a189a2f3d903f1b9053ab24a1f16dd2491\n",
      "  Stored in directory: /home/ravil/.cache/pip/wheels/b1/b0/b1/85234f5de439e0721f5466ae78d33d9ff033f6f9ef63e6c26c\n",
      "Successfully built DI-engine\n",
      "Installing collected packages: yapf, URLObject, pytz, pytimeparse, pathtools, gym-notices, easydict, commonmark, bitmath, zipp, wrapt, Werkzeug, urllib3, typing-extensions, trueskill, tqdm, threadpoolctl, tabulate, sniffio, smmap, shortuuid, setproctitle, pyyaml, pycparser, protobuf, promise, pillow, numpy, MarkupSafe, lz4, joblib, itsdangerous, inflection, idna, graphviz, fonttools, docker-pycreds, dill, cycler, cloudpickle, click, charset-normalizer, chardet, certifi, torch, tensorboardX, sentry-sdk, scipy, rich, requests, readerwriterlock, pydantic, pandas, mpire, kiwisolver, Jinja2, importlib-metadata, h5py, gitdb, enum_tools, deprecated, cffi, async-timeout, scikit-learn, responses, redis, pynng, matplotlib, inflect, gym, GitPython, flask, wandb, pettingzoo, hbutils, treevalue, DI-toolkit, DI-treetensor, DI-engine\n",
      "Successfully installed DI-engine-0.4.4 DI-toolkit-0.0.2 DI-treetensor-0.4.0 GitPython-3.1.29 Jinja2-2.11.3 MarkupSafe-2.0.1 URLObject-2.4.3 Werkzeug-1.0.1 async-timeout-4.0.2 bitmath-1.3.3.1 certifi-2022.9.24 cffi-1.15.1 chardet-4.0.0 charset-normalizer-2.1.1 click-7.1.2 cloudpickle-2.2.0 commonmark-0.9.1 cycler-0.11.0 deprecated-1.2.13 dill-0.3.6 docker-pycreds-0.4.0 easydict-1.9 enum_tools-0.9.0.post1 flask-1.1.4 fonttools-4.38.0 gitdb-4.0.9 graphviz-0.20.1 gym-0.25.2 gym-notices-0.0.8 h5py-3.7.0 hbutils-0.7.5 idna-3.4 importlib-metadata-5.0.0 inflect-6.0.2 inflection-0.5.1 itsdangerous-1.1.0 joblib-1.2.0 kiwisolver-1.4.4 lz4-4.0.2 matplotlib-3.5.3 mpire-2.6.0 numpy-1.21.6 pandas-1.3.5 pathtools-0.1.2 pettingzoo-1.12.0 pillow-9.3.0 promise-2.3 protobuf-3.20.1 pycparser-2.21 pydantic-1.10.2 pynng-0.7.1 pytimeparse-1.1.8 pytz-2022.6 pyyaml-6.0 readerwriterlock-1.0.9 redis-4.3.4 requests-2.28.1 responses-0.12.1 rich-12.6.0 scikit-learn-1.0.2 scipy-1.7.3 sentry-sdk-1.10.1 setproctitle-1.3.2 shortuuid-1.0.9 smmap-5.0.0 sniffio-1.3.0 tabulate-0.9.0 tensorboardX-2.5.1 threadpoolctl-3.1.0 torch-1.12.1 tqdm-4.64.1 treevalue-1.4.1 trueskill-0.4.5 typing-extensions-4.4.0 urllib3-1.26.12 wandb-0.13.5 wrapt-1.14.1 yapf-0.29.0 zipp-3.10.0\n",
      "Note: you may need to restart the kernel to use updated packages.\n",
      "Requirement already satisfied: gym in ./venv/lib/python3.7/site-packages (0.25.2)\n",
      "Collecting stable-baselines\n",
      "  Using cached stable_baselines-2.10.2-py3-none-any.whl (240 kB)\n",
      "Collecting finta\n",
      "  Using cached finta-1.3-py3-none-any.whl (29 kB)\n",
      "Collecting tensorflow-gpu==1.15.0\n",
      "  Using cached tensorflow_gpu-1.15.0-cp37-cp37m-manylinux2010_x86_64.whl (411.5 MB)\n",
      "Collecting tensorflow==1.15.0\n",
      "  Using cached tensorflow-1.15.0-cp37-cp37m-manylinux2010_x86_64.whl (412.3 MB)\n",
      "Requirement already satisfied: six>=1.10.0 in ./venv/lib/python3.7/site-packages (from tensorflow-gpu==1.15.0) (1.16.0)\n",
      "Requirement already satisfied: numpy<2.0,>=1.16.0 in ./venv/lib/python3.7/site-packages (from tensorflow-gpu==1.15.0) (1.21.6)\n",
      "Collecting grpcio>=1.8.6\n",
      "  Using cached grpcio-1.50.0-cp37-cp37m-manylinux_2_17_x86_64.manylinux2014_x86_64.whl (4.7 MB)\n",
      "Collecting google-pasta>=0.1.6\n",
      "  Using cached google_pasta-0.2.0-py3-none-any.whl (57 kB)\n",
      "Requirement already satisfied: wrapt>=1.11.1 in ./venv/lib/python3.7/site-packages (from tensorflow-gpu==1.15.0) (1.14.1)\n",
      "Collecting keras-applications>=1.0.8\n",
      "  Using cached Keras_Applications-1.0.8-py3-none-any.whl (50 kB)\n",
      "Collecting opt-einsum>=2.3.2\n",
      "  Using cached opt_einsum-3.3.0-py3-none-any.whl (65 kB)\n",
      "Collecting gast==0.2.2\n",
      "  Using cached gast-0.2.2-py3-none-any.whl\n",
      "Collecting termcolor>=1.1.0\n",
      "  Using cached termcolor-2.1.0-py3-none-any.whl (5.8 kB)\n",
      "Collecting keras-preprocessing>=1.0.5\n",
      "  Using cached Keras_Preprocessing-1.1.2-py2.py3-none-any.whl (42 kB)\n",
      "Collecting tensorboard<1.16.0,>=1.15.0\n",
      "  Using cached tensorboard-1.15.0-py3-none-any.whl (3.8 MB)\n",
      "Requirement already satisfied: wheel>=0.26 in ./venv/lib/python3.7/site-packages (from tensorflow-gpu==1.15.0) (0.37.1)\n",
      "Requirement already satisfied: protobuf>=3.6.1 in ./venv/lib/python3.7/site-packages (from tensorflow-gpu==1.15.0) (3.20.1)\n",
      "Collecting astor>=0.6.0\n",
      "  Using cached astor-0.8.1-py2.py3-none-any.whl (27 kB)\n",
      "Collecting tensorflow-estimator==1.15.1\n",
      "  Using cached tensorflow_estimator-1.15.1-py2.py3-none-any.whl (503 kB)\n",
      "Collecting absl-py>=0.7.0\n",
      "  Using cached absl_py-1.3.0-py3-none-any.whl (124 kB)\n",
      "Requirement already satisfied: importlib-metadata>=4.8.0 in ./venv/lib/python3.7/site-packages (from gym) (5.0.0)\n",
      "Requirement already satisfied: cloudpickle>=1.2.0 in ./venv/lib/python3.7/site-packages (from gym) (2.2.0)\n",
      "Requirement already satisfied: gym-notices>=0.0.4 in ./venv/lib/python3.7/site-packages (from gym) (0.0.8)\n",
      "Requirement already satisfied: joblib in ./venv/lib/python3.7/site-packages (from stable-baselines) (1.2.0)\n",
      "Requirement already satisfied: pandas in ./venv/lib/python3.7/site-packages (from stable-baselines) (1.3.5)\n",
      "Requirement already satisfied: matplotlib in ./venv/lib/python3.7/site-packages (from stable-baselines) (3.5.3)\n",
      "Requirement already satisfied: scipy in ./venv/lib/python3.7/site-packages (from stable-baselines) (1.7.3)\n",
      "Collecting opencv-python\n",
      "  Using cached opencv_python-4.6.0.66-cp36-abi3-manylinux_2_17_x86_64.manylinux2014_x86_64.whl (60.9 MB)\n",
      "Collecting pygame==2.1.0\n",
      "  Using cached pygame-2.1.0-cp37-cp37m-manylinux_2_17_x86_64.manylinux2014_x86_64.whl (18.3 MB)\n",
      "Collecting ale-py~=0.7.5\n",
      "  Using cached ale_py-0.7.5-cp37-cp37m-manylinux_2_17_x86_64.manylinux2014_x86_64.whl (1.6 MB)\n",
      "Requirement already satisfied: zipp>=0.5 in ./venv/lib/python3.7/site-packages (from importlib-metadata>=4.8.0->gym) (3.10.0)\n",
      "Requirement already satisfied: typing-extensions>=3.6.4 in ./venv/lib/python3.7/site-packages (from importlib-metadata>=4.8.0->gym) (4.4.0)\n",
      "Requirement already satisfied: h5py in ./venv/lib/python3.7/site-packages (from keras-applications>=1.0.8->tensorflow-gpu==1.15.0) (3.7.0)\n",
      "Requirement already satisfied: werkzeug>=0.11.15 in ./venv/lib/python3.7/site-packages (from tensorboard<1.16.0,>=1.15.0->tensorflow-gpu==1.15.0) (1.0.1)\n",
      "Collecting markdown>=2.6.8\n",
      "  Using cached Markdown-3.4.1-py3-none-any.whl (93 kB)\n",
      "Requirement already satisfied: setuptools>=41.0.0 in ./venv/lib/python3.7/site-packages (from tensorboard<1.16.0,>=1.15.0->tensorflow-gpu==1.15.0) (65.5.0)\n",
      "Requirement already satisfied: pillow>=6.2.0 in ./venv/lib/python3.7/site-packages (from matplotlib->stable-baselines) (9.3.0)\n",
      "Requirement already satisfied: python-dateutil>=2.7 in ./venv/lib/python3.7/site-packages (from matplotlib->stable-baselines) (2.8.2)\n",
      "Requirement already satisfied: cycler>=0.10 in ./venv/lib/python3.7/site-packages (from matplotlib->stable-baselines) (0.11.0)\n",
      "Requirement already satisfied: fonttools>=4.22.0 in ./venv/lib/python3.7/site-packages (from matplotlib->stable-baselines) (4.38.0)\n",
      "Requirement already satisfied: pyparsing>=2.2.1 in ./venv/lib/python3.7/site-packages (from matplotlib->stable-baselines) (3.0.9)\n",
      "Requirement already satisfied: kiwisolver>=1.0.1 in ./venv/lib/python3.7/site-packages (from matplotlib->stable-baselines) (1.4.4)\n",
      "Requirement already satisfied: packaging>=20.0 in ./venv/lib/python3.7/site-packages (from matplotlib->stable-baselines) (21.3)\n",
      "Requirement already satisfied: pytz>=2017.3 in ./venv/lib/python3.7/site-packages (from pandas->stable-baselines) (2022.6)\n",
      "Collecting importlib-resources\n",
      "  Using cached importlib_resources-5.10.0-py3-none-any.whl (34 kB)\n",
      "Installing collected packages: tensorflow-estimator, termcolor, pygame, opt-einsum, opencv-python, keras-preprocessing, importlib-resources, grpcio, google-pasta, gast, astor, absl-py, markdown, keras-applications, ale-py, tensorboard, finta, tensorflow-gpu, tensorflow, stable-baselines\n",
      "Successfully installed absl-py-1.3.0 ale-py-0.7.5 astor-0.8.1 finta-1.3 gast-0.2.2 google-pasta-0.2.0 grpcio-1.50.0 importlib-resources-5.10.0 keras-applications-1.0.8 keras-preprocessing-1.1.2 markdown-3.4.1 opencv-python-4.6.0.66 opt-einsum-3.3.0 pygame-2.1.0 stable-baselines-2.10.2 tensorboard-1.15.0 tensorflow-1.15.0 tensorflow-estimator-1.15.1 tensorflow-gpu-1.15.0 termcolor-2.1.0\n",
      "Note: you may need to restart the kernel to use updated packages.\n"
     ]
    }
   ],
   "source": [
    "!git clone https://github.com/opendilab/DI-engine.git\n",
    "%pip install DI-engine/.\n",
    "!rm -rf DI-engine\n",
    "\n",
    "%pip install gym stable-baselines finta tensorflow-gpu==1.15.0 tensorflow==1.15.0 "
   ]
  },
  {
   "cell_type": "markdown",
   "metadata": {
    "id": "X6q_2LtsOmKf"
   },
   "source": [
    "Installation Check"
   ]
  },
  {
   "cell_type": "code",
   "execution_count": 2,
   "metadata": {},
   "outputs": [
    {
     "name": "stderr",
     "output_type": "stream",
     "text": [
      "/home/ravil/Desktop/Innopolis/Classes/3_sem/RL/RL-trading-agent/venv/lib/python3.7/site-packages/tensorflow_core/python/pywrap_tensorflow_internal.py:15: DeprecationWarning: the imp module is deprecated in favour of importlib; see the module's documentation for alternative uses\n",
      "  import imp\n",
      "/home/ravil/Desktop/Innopolis/Classes/3_sem/RL/RL-trading-agent/venv/lib/python3.7/site-packages/tensorflow_core/python/framework/dtypes.py:597: DeprecationWarning: `np.object` is a deprecated alias for the builtin `object`. To silence this warning, use `object` by itself. Doing this will not modify any behavior and is safe. \n",
      "Deprecated in NumPy 1.20; for more details and guidance: https://numpy.org/devdocs/release/1.20.0-notes.html#deprecations\n",
      "  np.object,\n",
      "/home/ravil/Desktop/Innopolis/Classes/3_sem/RL/RL-trading-agent/venv/lib/python3.7/site-packages/tensorflow_core/python/framework/dtypes.py:605: DeprecationWarning: `np.bool` is a deprecated alias for the builtin `bool`. To silence this warning, use `bool` by itself. Doing this will not modify any behavior and is safe. If you specifically wanted the numpy scalar type, use `np.bool_` here.\n",
      "Deprecated in NumPy 1.20; for more details and guidance: https://numpy.org/devdocs/release/1.20.0-notes.html#deprecations\n",
      "  np.bool,\n",
      "/home/ravil/Desktop/Innopolis/Classes/3_sem/RL/RL-trading-agent/venv/lib/python3.7/site-packages/tensorflow_core/python/framework/tensor_util.py:106: DeprecationWarning: `np.object` is a deprecated alias for the builtin `object`. To silence this warning, use `object` by itself. Doing this will not modify any behavior and is safe. \n",
      "Deprecated in NumPy 1.20; for more details and guidance: https://numpy.org/devdocs/release/1.20.0-notes.html#deprecations\n",
      "  np.object:\n",
      "/home/ravil/Desktop/Innopolis/Classes/3_sem/RL/RL-trading-agent/venv/lib/python3.7/site-packages/tensorflow_core/python/framework/tensor_util.py:108: DeprecationWarning: `np.bool` is a deprecated alias for the builtin `bool`. To silence this warning, use `bool` by itself. Doing this will not modify any behavior and is safe. If you specifically wanted the numpy scalar type, use `np.bool_` here.\n",
      "Deprecated in NumPy 1.20; for more details and guidance: https://numpy.org/devdocs/release/1.20.0-notes.html#deprecations\n",
      "  np.bool:\n",
      "/home/ravil/Desktop/Innopolis/Classes/3_sem/RL/RL-trading-agent/venv/lib/python3.7/site-packages/keras_preprocessing/image/utils.py:23: DeprecationWarning: NEAREST is deprecated and will be removed in Pillow 10 (2023-07-01). Use Resampling.NEAREST or Dither.NONE instead.\n",
      "  'nearest': pil_image.NEAREST,\n",
      "/home/ravil/Desktop/Innopolis/Classes/3_sem/RL/RL-trading-agent/venv/lib/python3.7/site-packages/keras_preprocessing/image/utils.py:24: DeprecationWarning: BILINEAR is deprecated and will be removed in Pillow 10 (2023-07-01). Use Resampling.BILINEAR instead.\n",
      "  'bilinear': pil_image.BILINEAR,\n",
      "/home/ravil/Desktop/Innopolis/Classes/3_sem/RL/RL-trading-agent/venv/lib/python3.7/site-packages/keras_preprocessing/image/utils.py:25: DeprecationWarning: BICUBIC is deprecated and will be removed in Pillow 10 (2023-07-01). Use Resampling.BICUBIC instead.\n",
      "  'bicubic': pil_image.BICUBIC,\n",
      "/home/ravil/Desktop/Innopolis/Classes/3_sem/RL/RL-trading-agent/venv/lib/python3.7/site-packages/keras_preprocessing/image/utils.py:28: DeprecationWarning: HAMMING is deprecated and will be removed in Pillow 10 (2023-07-01). Use Resampling.HAMMING instead.\n",
      "  if hasattr(pil_image, 'HAMMING'):\n",
      "/home/ravil/Desktop/Innopolis/Classes/3_sem/RL/RL-trading-agent/venv/lib/python3.7/site-packages/keras_preprocessing/image/utils.py:30: DeprecationWarning: BOX is deprecated and will be removed in Pillow 10 (2023-07-01). Use Resampling.BOX instead.\n",
      "  if hasattr(pil_image, 'BOX'):\n",
      "/home/ravil/Desktop/Innopolis/Classes/3_sem/RL/RL-trading-agent/venv/lib/python3.7/site-packages/keras_preprocessing/image/utils.py:33: DeprecationWarning: LANCZOS is deprecated and will be removed in Pillow 10 (2023-07-01). Use Resampling.LANCZOS instead.\n",
      "  if hasattr(pil_image, 'LANCZOS'):\n",
      "/home/ravil/Desktop/Innopolis/Classes/3_sem/RL/RL-trading-agent/venv/lib/python3.7/site-packages/tensorboard/compat/tensorflow_stub/dtypes.py:568: DeprecationWarning: `np.object` is a deprecated alias for the builtin `object`. To silence this warning, use `object` by itself. Doing this will not modify any behavior and is safe. \n",
      "Deprecated in NumPy 1.20; for more details and guidance: https://numpy.org/devdocs/release/1.20.0-notes.html#deprecations\n",
      "  (np.object, string),\n",
      "/home/ravil/Desktop/Innopolis/Classes/3_sem/RL/RL-trading-agent/venv/lib/python3.7/site-packages/tensorboard/compat/tensorflow_stub/dtypes.py:569: DeprecationWarning: `np.bool` is a deprecated alias for the builtin `bool`. To silence this warning, use `bool` by itself. Doing this will not modify any behavior and is safe. If you specifically wanted the numpy scalar type, use `np.bool_` here.\n",
      "Deprecated in NumPy 1.20; for more details and guidance: https://numpy.org/devdocs/release/1.20.0-notes.html#deprecations\n",
      "  (np.bool, bool),\n",
      "/home/ravil/Desktop/Innopolis/Classes/3_sem/RL/RL-trading-agent/venv/lib/python3.7/site-packages/tensorboard/util/tensor_util.py:100: DeprecationWarning: `np.object` is a deprecated alias for the builtin `object`. To silence this warning, use `object` by itself. Doing this will not modify any behavior and is safe. \n",
      "Deprecated in NumPy 1.20; for more details and guidance: https://numpy.org/devdocs/release/1.20.0-notes.html#deprecations\n",
      "  np.object: SlowAppendObjectArrayToTensorProto,\n",
      "/home/ravil/Desktop/Innopolis/Classes/3_sem/RL/RL-trading-agent/venv/lib/python3.7/site-packages/tensorboard/util/tensor_util.py:101: DeprecationWarning: `np.bool` is a deprecated alias for the builtin `bool`. To silence this warning, use `bool` by itself. Doing this will not modify any behavior and is safe. If you specifically wanted the numpy scalar type, use `np.bool_` here.\n",
      "Deprecated in NumPy 1.20; for more details and guidance: https://numpy.org/devdocs/release/1.20.0-notes.html#deprecations\n",
      "  np.bool: SlowAppendBoolArrayToTensorProto,\n",
      "/home/ravil/Desktop/Innopolis/Classes/3_sem/RL/RL-trading-agent/venv/lib/python3.7/site-packages/tensorflow_core/contrib/learn/python/learn/learn_io/generator_io.py:26: DeprecationWarning: Using or importing the ABCs from 'collections' instead of from 'collections.abc' is deprecated since Python 3.3,and in 3.9 it will stop working\n",
      "  from collections import Container\n"
     ]
    },
    {
     "name": "stdout",
     "output_type": "stream",
     "text": [
      "WARNING:tensorflow:\n",
      "The TensorFlow contrib module will not be included in TensorFlow 2.0.\n",
      "For more information, please see:\n",
      "  * https://github.com/tensorflow/community/blob/master/rfcs/20180907-contrib-sunset.md\n",
      "  * https://github.com/tensorflow/addons\n",
      "  * https://github.com/tensorflow/io (for I/O related ops)\n",
      "If you depend on functionality not listed there, please file an issue.\n",
      "\n"
     ]
    },
    {
     "name": "stderr",
     "output_type": "stream",
     "text": [
      "/home/ravil/Desktop/Innopolis/Classes/3_sem/RL/RL-trading-agent/venv/lib/python3.7/site-packages/stable_baselines/__init__.py:33: UserWarning: stable-baselines is in maintenance mode, please use [Stable-Baselines3 (SB3)](https://github.com/DLR-RM/stable-baselines3) for an up-to-date version. You can find a [migration guide](https://stable-baselines3.readthedocs.io/en/master/guide/migration.html) in SB3 documentation.\n",
      "  \"stable-baselines is in maintenance mode, please use [Stable-Baselines3 (SB3)](https://github.com/DLR-RM/stable-baselines3) for an up-to-date version. You can find a [migration guide](https://stable-baselines3.readthedocs.io/en/master/guide/migration.html) in SB3 documentation.\"\n"
     ]
    },
    {
     "name": "stdout",
     "output_type": "stream",
     "text": [
      "v0.4.4\n"
     ]
    }
   ],
   "source": [
    "import gym\n",
    "\n",
    "# Stable baselines - rl stuff.\n",
    "from stable_baselines.common.vec_env import DummyVecEnv\n",
    "from stable_baselines import A2C\n",
    "\n",
    "# Processing libraries.\n",
    "import numpy as np\n",
    "import pandas as pd\n",
    "from matplotlib import pyplot as plt\n",
    "\n",
    "# Finta is needed to calculate Market Custom indicators.\n",
    "from finta import TA\n",
    "\n",
    "import ding\n",
    "print(ding.__version__)"
   ]
  },
  {
   "cell_type": "markdown",
   "metadata": {},
   "source": [
    "# 1. Data preprocessing"
   ]
  },
  {
   "cell_type": "code",
   "execution_count": null,
   "metadata": {},
   "outputs": [],
   "source": [
    "# Download some data, if you need"
   ]
  },
  {
   "cell_type": "code",
   "execution_count": 7,
   "metadata": {},
   "outputs": [],
   "source": [
    "import os\n",
    "\n",
    "csv_name = 'STOCKS_GOOGL.csv'\n",
    "\n",
    "# check the ding installation folder\n",
    "ding_folder = ding.__file__.split('/ding')[0]\n",
    "data_folder = os.path.join(ding_folder, 'dizoo/gym_anytrading/envs/data')  \n",
    "\n",
    "if os.path.exists(data_folder) == 0:\n",
    "    os.mkdir(data_folder)\n",
    "\n",
    "# move data to correct folder\n",
    "os.replace(f\"{csv_name}\", f\"{data_folder}/example_data.csv\")"
   ]
  },
  {
   "cell_type": "code",
   "execution_count": null,
   "metadata": {},
   "outputs": [],
   "source": [
    "# Enhance with custom indicators using FINTA"
   ]
  },
  {
   "cell_type": "markdown",
   "metadata": {},
   "source": [
    "# 2. Create new environment\n"
   ]
  },
  {
   "cell_type": "code",
   "execution_count": 22,
   "metadata": {},
   "outputs": [],
   "source": [
    "import numpy as np\n",
    "from easydict import EasyDict\n",
    "from dizoo.gym_anytrading.envs import StocksEnv\n",
    "\n",
    "new_env = StocksEnv(EasyDict({\"env_id\": 'stocks-v0', \"eps_length\": 300,\\\n",
    "            \"window_size\": 20, \"train_range\": None, \"test_range\": None, \"stocks_data_filename\": 'example_data'}))"
   ]
  },
  {
   "cell_type": "code",
   "execution_count": 23,
   "metadata": {},
   "outputs": [
    {
     "data": {
      "text/plain": [
       "array([-5.7169259e-01, -5.3066853e-03,  2.0483774e-01, -5.7478660e-01,\n",
       "       -3.0940038e-03, -1.8333234e-02, -5.7090110e-01,  3.8854936e-03,\n",
       "       -4.9585402e-01, -5.6197864e-01,  8.9224614e-03, -1.0771014e-01,\n",
       "       -5.5285829e-01,  9.1203311e-03,  6.1099446e-01, -5.2774584e-01,\n",
       "        2.5112454e-02,  7.5697792e-01, -5.5363184e-01, -2.5885954e-02,\n",
       "        6.3584346e-01, -5.4810917e-01,  5.5226553e-03,  1.1722134e+00,\n",
       "       -5.4058993e-01,  7.5192587e-03,  1.2251406e-01, -5.5667186e-01,\n",
       "       -1.6081952e-02,  3.0318490e-01, -5.5782324e-01, -1.1513666e-03,\n",
       "        2.2990379e-01, -5.4046398e-01,  1.7359236e-02,  1.0243952e-01,\n",
       "       -5.3790951e-01,  2.5544616e-03,  2.7565926e-01, -5.2893311e-01,\n",
       "        8.9764278e-03,  2.1033564e-01, -5.0139219e-01,  2.7540883e-02,\n",
       "        6.4409029e-01, -4.7063130e-01,  3.0760920e-02,  1.5608275e+00,\n",
       "       -4.8361924e-01, -1.2987948e-02,  7.1447778e-01, -4.8142466e-01,\n",
       "        2.1945811e-03,  1.2164597e-01, -4.8336741e-01, -1.9427451e-03,\n",
       "        7.4258214e-01, -4.7743112e-01,  5.9362794e-03, -2.0931262e-01,\n",
       "        0.0000000e+00,  3.3333334e-03], dtype=float32)"
      ]
     },
     "execution_count": 23,
     "metadata": {},
     "output_type": "execute_result"
    }
   ],
   "source": [
    "new_env.reset()"
   ]
  },
  {
   "cell_type": "code",
   "execution_count": 24,
   "metadata": {},
   "outputs": [
    {
     "name": "stdout",
     "output_type": "stream",
     "text": [
      "Discrete(5)\n"
     ]
    }
   ],
   "source": [
    "print(new_env.action_space)"
   ]
  },
  {
   "cell_type": "markdown",
   "metadata": {},
   "source": [
    "### Indicators can be added by overriding _process_data method."
   ]
  },
  {
   "cell_type": "markdown",
   "metadata": {},
   "source": [
    "# 3. Build Environment and Train"
   ]
  },
  {
   "cell_type": "code",
   "execution_count": 27,
   "metadata": {},
   "outputs": [
    {
     "ename": "AttributeError",
     "evalue": "module 'gym.logger' has no attribute 'MIN_LEVEL'",
     "output_type": "error",
     "traceback": [
      "\u001b[0;31m---------------------------------------------------------------------------\u001b[0m",
      "\u001b[0;31mAttributeError\u001b[0m                            Traceback (most recent call last)",
      "\u001b[0;32m/tmp/ipykernel_6106/3743168758.py\u001b[0m in \u001b[0;36m<module>\u001b[0;34m\u001b[0m\n\u001b[1;32m      1\u001b[0m \u001b[0menv\u001b[0m \u001b[0;34m=\u001b[0m \u001b[0mDummyVecEnv\u001b[0m\u001b[0;34m(\u001b[0m\u001b[0;34m[\u001b[0m\u001b[0;32mlambda\u001b[0m\u001b[0;34m:\u001b[0m \u001b[0mnew_env\u001b[0m\u001b[0;34m]\u001b[0m\u001b[0;34m)\u001b[0m\u001b[0;34m\u001b[0m\u001b[0;34m\u001b[0m\u001b[0m\n\u001b[0;32m----> 2\u001b[0;31m \u001b[0mmodel\u001b[0m \u001b[0;34m=\u001b[0m \u001b[0mA2C\u001b[0m\u001b[0;34m(\u001b[0m\u001b[0;34m'MlpLstmPolicy'\u001b[0m\u001b[0;34m,\u001b[0m \u001b[0menv\u001b[0m\u001b[0;34m,\u001b[0m \u001b[0mverbose\u001b[0m\u001b[0;34m=\u001b[0m\u001b[0;36m1\u001b[0m\u001b[0;34m)\u001b[0m\u001b[0;34m\u001b[0m\u001b[0;34m\u001b[0m\u001b[0m\n\u001b[0m\u001b[1;32m      3\u001b[0m \u001b[0mmodel\u001b[0m\u001b[0;34m.\u001b[0m\u001b[0mlearn\u001b[0m\u001b[0;34m(\u001b[0m\u001b[0mtotal_timesteps\u001b[0m\u001b[0;34m=\u001b[0m\u001b[0;36m1000000\u001b[0m\u001b[0;34m)\u001b[0m\u001b[0;34m\u001b[0m\u001b[0;34m\u001b[0m\u001b[0m\n",
      "\u001b[0;32m~/Desktop/Innopolis/Classes/3_sem/RL/RL-trading-agent/venv/lib/python3.7/site-packages/stable_baselines/a2c/a2c.py\u001b[0m in \u001b[0;36m__init__\u001b[0;34m(self, policy, env, gamma, n_steps, vf_coef, ent_coef, max_grad_norm, learning_rate, alpha, momentum, epsilon, lr_schedule, verbose, tensorboard_log, _init_setup_model, policy_kwargs, full_tensorboard_log, seed, n_cpu_tf_sess)\u001b[0m\n\u001b[1;32m    105\u001b[0m         \u001b[0;31m# if we are loading, it is possible the environment is not known, however the obs and action space are known\u001b[0m\u001b[0;34m\u001b[0m\u001b[0;34m\u001b[0m\u001b[0;34m\u001b[0m\u001b[0m\n\u001b[1;32m    106\u001b[0m         \u001b[0;32mif\u001b[0m \u001b[0m_init_setup_model\u001b[0m\u001b[0;34m:\u001b[0m\u001b[0;34m\u001b[0m\u001b[0;34m\u001b[0m\u001b[0m\n\u001b[0;32m--> 107\u001b[0;31m             \u001b[0mself\u001b[0m\u001b[0;34m.\u001b[0m\u001b[0msetup_model\u001b[0m\u001b[0;34m(\u001b[0m\u001b[0;34m)\u001b[0m\u001b[0;34m\u001b[0m\u001b[0;34m\u001b[0m\u001b[0m\n\u001b[0m\u001b[1;32m    108\u001b[0m \u001b[0;34m\u001b[0m\u001b[0m\n\u001b[1;32m    109\u001b[0m     \u001b[0;32mdef\u001b[0m \u001b[0m_make_runner\u001b[0m\u001b[0;34m(\u001b[0m\u001b[0mself\u001b[0m\u001b[0;34m)\u001b[0m \u001b[0;34m->\u001b[0m \u001b[0mAbstractEnvRunner\u001b[0m\u001b[0;34m:\u001b[0m\u001b[0;34m\u001b[0m\u001b[0;34m\u001b[0m\u001b[0m\n",
      "\u001b[0;32m~/Desktop/Innopolis/Classes/3_sem/RL/RL-trading-agent/venv/lib/python3.7/site-packages/stable_baselines/a2c/a2c.py\u001b[0m in \u001b[0;36msetup_model\u001b[0;34m(self)\u001b[0m\n\u001b[1;32m    117\u001b[0m \u001b[0;34m\u001b[0m\u001b[0m\n\u001b[1;32m    118\u001b[0m     \u001b[0;32mdef\u001b[0m \u001b[0msetup_model\u001b[0m\u001b[0;34m(\u001b[0m\u001b[0mself\u001b[0m\u001b[0;34m)\u001b[0m\u001b[0;34m:\u001b[0m\u001b[0;34m\u001b[0m\u001b[0;34m\u001b[0m\u001b[0m\n\u001b[0;32m--> 119\u001b[0;31m         \u001b[0;32mwith\u001b[0m \u001b[0mSetVerbosity\u001b[0m\u001b[0;34m(\u001b[0m\u001b[0mself\u001b[0m\u001b[0;34m.\u001b[0m\u001b[0mverbose\u001b[0m\u001b[0;34m)\u001b[0m\u001b[0;34m:\u001b[0m\u001b[0;34m\u001b[0m\u001b[0;34m\u001b[0m\u001b[0m\n\u001b[0m\u001b[1;32m    120\u001b[0m \u001b[0;34m\u001b[0m\u001b[0m\n\u001b[1;32m    121\u001b[0m             \u001b[0;32massert\u001b[0m \u001b[0missubclass\u001b[0m\u001b[0;34m(\u001b[0m\u001b[0mself\u001b[0m\u001b[0;34m.\u001b[0m\u001b[0mpolicy\u001b[0m\u001b[0;34m,\u001b[0m \u001b[0mActorCriticPolicy\u001b[0m\u001b[0;34m)\u001b[0m\u001b[0;34m,\u001b[0m \u001b[0;34m\"Error: the input policy for the A2C model must be an \"\u001b[0m\u001b[0;31m \u001b[0m\u001b[0;31m\\\u001b[0m\u001b[0;34m\u001b[0m\u001b[0;34m\u001b[0m\u001b[0m\n",
      "\u001b[0;32m~/Desktop/Innopolis/Classes/3_sem/RL/RL-trading-agent/venv/lib/python3.7/site-packages/stable_baselines/common/base_class.py\u001b[0m in \u001b[0;36m__enter__\u001b[0;34m(self)\u001b[0m\n\u001b[1;32m   1127\u001b[0m         \u001b[0mself\u001b[0m\u001b[0;34m.\u001b[0m\u001b[0mtf_level\u001b[0m \u001b[0;34m=\u001b[0m \u001b[0mos\u001b[0m\u001b[0;34m.\u001b[0m\u001b[0menviron\u001b[0m\u001b[0;34m.\u001b[0m\u001b[0mget\u001b[0m\u001b[0;34m(\u001b[0m\u001b[0;34m'TF_CPP_MIN_LOG_LEVEL'\u001b[0m\u001b[0;34m,\u001b[0m \u001b[0;34m'0'\u001b[0m\u001b[0;34m)\u001b[0m\u001b[0;34m\u001b[0m\u001b[0;34m\u001b[0m\u001b[0m\n\u001b[1;32m   1128\u001b[0m         \u001b[0mself\u001b[0m\u001b[0;34m.\u001b[0m\u001b[0mlog_level\u001b[0m \u001b[0;34m=\u001b[0m \u001b[0mlogger\u001b[0m\u001b[0;34m.\u001b[0m\u001b[0mget_level\u001b[0m\u001b[0;34m(\u001b[0m\u001b[0;34m)\u001b[0m\u001b[0;34m\u001b[0m\u001b[0;34m\u001b[0m\u001b[0m\n\u001b[0;32m-> 1129\u001b[0;31m         \u001b[0mself\u001b[0m\u001b[0;34m.\u001b[0m\u001b[0mgym_level\u001b[0m \u001b[0;34m=\u001b[0m \u001b[0mgym\u001b[0m\u001b[0;34m.\u001b[0m\u001b[0mlogger\u001b[0m\u001b[0;34m.\u001b[0m\u001b[0mMIN_LEVEL\u001b[0m\u001b[0;34m\u001b[0m\u001b[0;34m\u001b[0m\u001b[0m\n\u001b[0m\u001b[1;32m   1130\u001b[0m \u001b[0;34m\u001b[0m\u001b[0m\n\u001b[1;32m   1131\u001b[0m         \u001b[0;32mif\u001b[0m \u001b[0mself\u001b[0m\u001b[0;34m.\u001b[0m\u001b[0mverbose\u001b[0m \u001b[0;34m<=\u001b[0m \u001b[0;36m1\u001b[0m\u001b[0;34m:\u001b[0m\u001b[0;34m\u001b[0m\u001b[0;34m\u001b[0m\u001b[0m\n",
      "\u001b[0;31mAttributeError\u001b[0m: module 'gym.logger' has no attribute 'MIN_LEVEL'"
     ]
    }
   ],
   "source": [
    "env = DummyVecEnv([lambda: new_env])\n",
    "model = A2C('MlpLstmPolicy', env, verbose=1) \n",
    "model.learn(total_timesteps=1000000)"
   ]
  },
  {
   "cell_type": "markdown",
   "metadata": {},
   "source": [
    "# Next step - Create a training and evaluation pipelines."
   ]
  },
  {
   "cell_type": "markdown",
   "metadata": {},
   "source": [
    "# Usefull links:\n",
    "1) DI-engine/gym-anytading: https://github.com/opendilab/DI-engine/tree/main/dizoo/gym_anytrading\n",
    "2) Original gym-anytrading's use example: https://github.com/AminHP/gym-anytrading/blob/master/examples/a2c_quantstats.ipynb\n",
    "3) Adding custom signals to original gym-anytrading: https://github.com/nicknochnack/Reinforcement-Learning-for-Trading-Custom-Signals/blob/main/Custom%20Signals.ipynb"
   ]
  }
 ],
 "metadata": {
  "colab": {
   "collapsed_sections": [],
   "provenance": []
  },
  "kernelspec": {
   "display_name": "Python 3.7.15 ('venv': venv)",
   "language": "python",
   "name": "python3"
  },
  "language_info": {
   "codemirror_mode": {
    "name": "ipython",
    "version": 3
   },
   "file_extension": ".py",
   "mimetype": "text/x-python",
   "name": "python",
   "nbconvert_exporter": "python",
   "pygments_lexer": "ipython3",
   "version": "3.7.15"
  },
  "vscode": {
   "interpreter": {
    "hash": "441fc2366a943347809b4537348fd2d3cba231d9b44954245a967a49a50caeb4"
   }
  }
 },
 "nbformat": 4,
 "nbformat_minor": 1
}
