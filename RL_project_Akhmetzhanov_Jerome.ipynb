{
  "cells": [
    {
      "cell_type": "markdown",
      "metadata": {
        "id": "jS7AVIPyKJTC"
      },
      "source": [
        "# 0. Install and Import dependencies"
      ]
    },
    {
      "cell_type": "markdown",
      "metadata": {
        "id": "8E2d3x4CODWV"
      },
      "source": [
        "We will use the most advanced environment for RL-trading task - DI-engine/gym-anytrade. It's a part of DI-engine RL framework, which contains a lot of environments inside."
      ]
    },
    {
      "cell_type": "code",
      "execution_count": 1,
      "metadata": {
        "colab": {
          "base_uri": "https://localhost:8080/"
        },
        "id": "_ATpJ4CRJ1Hf",
        "outputId": "85dda76b-1564-4668-eac9-182add9eefd0"
      },
      "outputs": [
        {
          "name": "stdout",
          "output_type": "stream",
          "text": [
            "Defaulting to user installation because normal site-packages is not writeable\n",
            "Processing ./DI-engine\n",
            "  Preparing metadata (setup.py) ... \u001b[?25ldone\n",
            "\u001b[?25hRequirement already satisfied: DI-toolkit>=0.0.2 in /home/ravil/.local/lib/python3.8/site-packages (from DI-engine==0.4.4) (0.0.2)\n",
            "Requirement already satisfied: DI-treetensor>=0.4.0 in /home/ravil/.local/lib/python3.8/site-packages (from DI-engine==0.4.4) (0.4.0)\n",
            "Requirement already satisfied: MarkupSafe==2.0.1 in /home/ravil/.local/lib/python3.8/site-packages (from DI-engine==0.4.4) (2.0.1)\n",
            "Requirement already satisfied: URLObject>=2.4.0 in /home/ravil/.local/lib/python3.8/site-packages (from DI-engine==0.4.4) (2.4.3)\n",
            "Requirement already satisfied: click>=7.0.0 in /home/ravil/.local/lib/python3.8/site-packages (from DI-engine==0.4.4) (7.1.2)\n",
            "Requirement already satisfied: cloudpickle in /home/ravil/.local/lib/python3.8/site-packages (from DI-engine==0.4.4) (2.2.0)\n",
            "Requirement already satisfied: easydict==1.9 in /home/ravil/.local/lib/python3.8/site-packages (from DI-engine==0.4.4) (1.9)\n",
            "Requirement already satisfied: enum_tools in /home/ravil/.local/lib/python3.8/site-packages (from DI-engine==0.4.4) (0.9.0.post1)\n",
            "Requirement already satisfied: flask~=1.1.2 in /home/ravil/.local/lib/python3.8/site-packages (from DI-engine==0.4.4) (1.1.4)\n",
            "Requirement already satisfied: gym<0.26.0,>=0.25.1 in /home/ravil/.local/lib/python3.8/site-packages (from DI-engine==0.4.4) (0.25.2)\n",
            "Requirement already satisfied: h5py in /home/ravil/.local/lib/python3.8/site-packages (from DI-engine==0.4.4) (3.7.0)\n",
            "Requirement already satisfied: hbutils>=0.5.0 in /home/ravil/.local/lib/python3.8/site-packages (from DI-engine==0.4.4) (0.7.5)\n",
            "Requirement already satisfied: lz4 in /usr/lib/python3/dist-packages (from DI-engine==0.4.4) (3.0.2+dfsg)\n",
            "Requirement already satisfied: matplotlib in /home/ravil/.local/lib/python3.8/site-packages (from DI-engine==0.4.4) (3.5.2)\n",
            "Requirement already satisfied: mpire>=2.3.5 in /home/ravil/.local/lib/python3.8/site-packages (from DI-engine==0.4.4) (2.6.0)\n",
            "Requirement already satisfied: numpy>=1.18.0 in /home/ravil/.local/lib/python3.8/site-packages (from DI-engine==0.4.4) (1.21.5)\n",
            "Requirement already satisfied: pandas in /home/ravil/.local/lib/python3.8/site-packages (from DI-engine==0.4.4) (1.3.3)\n",
            "Requirement already satisfied: pettingzoo==1.12.0 in /home/ravil/.local/lib/python3.8/site-packages (from DI-engine==0.4.4) (1.12.0)\n",
            "Requirement already satisfied: protobuf in /home/ravil/.local/lib/python3.8/site-packages (from DI-engine==0.4.4) (3.20.1)\n",
            "Requirement already satisfied: pynng in /home/ravil/.local/lib/python3.8/site-packages (from DI-engine==0.4.4) (0.7.1)\n",
            "Requirement already satisfied: pyyaml in /usr/lib/python3/dist-packages (from DI-engine==0.4.4) (5.3.1)\n",
            "Requirement already satisfied: readerwriterlock in /home/ravil/.local/lib/python3.8/site-packages (from DI-engine==0.4.4) (1.0.9)\n",
            "Requirement already satisfied: redis in /home/ravil/.local/lib/python3.8/site-packages (from DI-engine==0.4.4) (4.3.4)\n",
            "Requirement already satisfied: requests>=2.25.1 in /home/ravil/.local/lib/python3.8/site-packages (from DI-engine==0.4.4) (2.25.1)\n",
            "Requirement already satisfied: responses~=0.12.1 in /home/ravil/.local/lib/python3.8/site-packages (from DI-engine==0.4.4) (0.12.1)\n",
            "Requirement already satisfied: scikit-learn in /home/ravil/.local/lib/python3.8/site-packages (from DI-engine==0.4.4) (0.24.2)\n",
            "Requirement already satisfied: scipy in /home/ravil/.local/lib/python3.8/site-packages (from DI-engine==0.4.4) (1.7.1)\n",
            "Requirement already satisfied: tabulate in /home/ravil/.local/lib/python3.8/site-packages (from DI-engine==0.4.4) (0.9.0)\n",
            "Requirement already satisfied: tensorboardX>=2.2 in /home/ravil/.local/lib/python3.8/site-packages (from DI-engine==0.4.4) (2.5.1)\n",
            "Requirement already satisfied: torch<=1.12.1,>=1.1.0 in /home/ravil/.local/lib/python3.8/site-packages (from DI-engine==0.4.4) (1.11.0)\n",
            "Requirement already satisfied: tqdm in /home/ravil/.local/lib/python3.8/site-packages (from DI-engine==0.4.4) (4.62.3)\n",
            "Requirement already satisfied: trueskill in /home/ravil/.local/lib/python3.8/site-packages (from DI-engine==0.4.4) (0.4.5)\n",
            "Requirement already satisfied: urllib3>=1.26.5 in /home/ravil/.local/lib/python3.8/site-packages (from DI-engine==0.4.4) (1.26.12)\n",
            "Requirement already satisfied: wandb in /home/ravil/.local/lib/python3.8/site-packages (from DI-engine==0.4.4) (0.13.4)\n",
            "Requirement already satisfied: yapf==0.29.0 in /home/ravil/.local/lib/python3.8/site-packages (from DI-engine==0.4.4) (0.29.0)\n",
            "Requirement already satisfied: rich>=12.2.0 in /home/ravil/.local/lib/python3.8/site-packages (from DI-toolkit>=0.0.2->DI-engine==0.4.4) (12.6.0)\n",
            "Requirement already satisfied: inflection>=0.5.1 in /home/ravil/.local/lib/python3.8/site-packages (from DI-toolkit>=0.0.2->DI-engine==0.4.4) (0.5.1)\n",
            "Requirement already satisfied: treevalue>=1.4.1 in /home/ravil/.local/lib/python3.8/site-packages (from DI-treetensor>=0.4.0->DI-engine==0.4.4) (1.4.1)\n",
            "Requirement already satisfied: Jinja2<3.0,>=2.10.1 in /usr/lib/python3/dist-packages (from flask~=1.1.2->DI-engine==0.4.4) (2.10.1)\n",
            "Requirement already satisfied: itsdangerous<2.0,>=0.24 in /home/ravil/.local/lib/python3.8/site-packages (from flask~=1.1.2->DI-engine==0.4.4) (1.1.0)\n",
            "Requirement already satisfied: Werkzeug<2.0,>=0.15 in /home/ravil/.local/lib/python3.8/site-packages (from flask~=1.1.2->DI-engine==0.4.4) (1.0.1)\n",
            "Requirement already satisfied: importlib-metadata>=4.8.0 in /home/ravil/.local/lib/python3.8/site-packages (from gym<0.26.0,>=0.25.1->DI-engine==0.4.4) (4.11.3)\n",
            "Requirement already satisfied: gym-notices>=0.0.4 in /home/ravil/.local/lib/python3.8/site-packages (from gym<0.26.0,>=0.25.1->DI-engine==0.4.4) (0.0.8)\n",
            "Requirement already satisfied: packaging>=21.3 in /home/ravil/.local/lib/python3.8/site-packages (from hbutils>=0.5.0->DI-engine==0.4.4) (21.3)\n",
            "Requirement already satisfied: pytimeparse>=1.1.8 in /home/ravil/.local/lib/python3.8/site-packages (from hbutils>=0.5.0->DI-engine==0.4.4) (1.1.8)\n",
            "Requirement already satisfied: chardet<5,>=3.0.4 in /usr/lib/python3/dist-packages (from hbutils>=0.5.0->DI-engine==0.4.4) (3.0.4)\n",
            "Requirement already satisfied: inflect>=5.2.0 in /home/ravil/.local/lib/python3.8/site-packages (from hbutils>=0.5.0->DI-engine==0.4.4) (6.0.2)\n",
            "Requirement already satisfied: bitmath>=1.3.3.1 in /home/ravil/.local/lib/python3.8/site-packages (from hbutils>=0.5.0->DI-engine==0.4.4) (1.3.3.1)\n",
            "Requirement already satisfied: pygments>=2.0 in /home/ravil/.local/lib/python3.8/site-packages (from mpire>=2.3.5->DI-engine==0.4.4) (2.10.0)\n",
            "Requirement already satisfied: certifi>=2017.4.17 in /usr/lib/python3/dist-packages (from requests>=2.25.1->DI-engine==0.4.4) (2019.11.28)\n",
            "Requirement already satisfied: idna<3,>=2.5 in /usr/lib/python3/dist-packages (from requests>=2.25.1->DI-engine==0.4.4) (2.8)\n",
            "Requirement already satisfied: six in /usr/lib/python3/dist-packages (from responses~=0.12.1->DI-engine==0.4.4) (1.14.0)\n",
            "Requirement already satisfied: typing-extensions in /home/ravil/.local/lib/python3.8/site-packages (from torch<=1.12.1,>=1.1.0->DI-engine==0.4.4) (4.4.0)\n",
            "Requirement already satisfied: python-dateutil>=2.7 in /usr/lib/python3/dist-packages (from matplotlib->DI-engine==0.4.4) (2.7.3)\n",
            "Requirement already satisfied: fonttools>=4.22.0 in /home/ravil/.local/lib/python3.8/site-packages (from matplotlib->DI-engine==0.4.4) (4.33.3)\n",
            "Requirement already satisfied: pyparsing>=2.2.1 in /usr/lib/python3/dist-packages (from matplotlib->DI-engine==0.4.4) (2.4.6)\n",
            "Requirement already satisfied: kiwisolver>=1.0.1 in /usr/lib/python3/dist-packages (from matplotlib->DI-engine==0.4.4) (1.0.1)\n",
            "Requirement already satisfied: pillow>=6.2.0 in /home/ravil/.local/lib/python3.8/site-packages (from matplotlib->DI-engine==0.4.4) (9.1.1)\n",
            "Requirement already satisfied: cycler>=0.10 in /usr/lib/python3/dist-packages (from matplotlib->DI-engine==0.4.4) (0.10.0)\n",
            "Requirement already satisfied: pytz>=2017.3 in /usr/lib/python3/dist-packages (from pandas->DI-engine==0.4.4) (2019.3)\n",
            "Requirement already satisfied: sniffio in /home/ravil/.local/lib/python3.8/site-packages (from pynng->DI-engine==0.4.4) (1.2.0)\n",
            "Requirement already satisfied: cffi in /home/ravil/.local/lib/python3.8/site-packages (from pynng->DI-engine==0.4.4) (1.14.6)\n",
            "Requirement already satisfied: async-timeout>=4.0.2 in /home/ravil/.local/lib/python3.8/site-packages (from redis->DI-engine==0.4.4) (4.0.2)\n",
            "Requirement already satisfied: deprecated>=1.2.3 in /usr/lib/python3/dist-packages (from redis->DI-engine==0.4.4) (1.2.7)\n",
            "Requirement already satisfied: joblib>=0.11 in /home/ravil/.local/lib/python3.8/site-packages (from scikit-learn->DI-engine==0.4.4) (1.0.1)\n",
            "Requirement already satisfied: threadpoolctl>=2.0.0 in /home/ravil/.local/lib/python3.8/site-packages (from scikit-learn->DI-engine==0.4.4) (2.2.0)\n",
            "Requirement already satisfied: psutil>=5.0.0 in /usr/lib/python3/dist-packages (from wandb->DI-engine==0.4.4) (5.5.1)\n",
            "Requirement already satisfied: pathtools in /home/ravil/.local/lib/python3.8/site-packages (from wandb->DI-engine==0.4.4) (0.1.2)\n",
            "Requirement already satisfied: sentry-sdk>=1.0.0 in /home/ravil/.local/lib/python3.8/site-packages (from wandb->DI-engine==0.4.4) (1.10.1)\n",
            "Requirement already satisfied: promise<3,>=2.0 in /home/ravil/.local/lib/python3.8/site-packages (from wandb->DI-engine==0.4.4) (2.3)\n",
            "Requirement already satisfied: setproctitle in /home/ravil/.local/lib/python3.8/site-packages (from wandb->DI-engine==0.4.4) (1.3.2)\n",
            "Requirement already satisfied: shortuuid>=0.5.0 in /home/ravil/.local/lib/python3.8/site-packages (from wandb->DI-engine==0.4.4) (1.0.9)\n",
            "Requirement already satisfied: GitPython>=1.0.0 in /home/ravil/.local/lib/python3.8/site-packages (from wandb->DI-engine==0.4.4) (3.1.29)\n",
            "Requirement already satisfied: setuptools in /usr/lib/python3/dist-packages (from wandb->DI-engine==0.4.4) (45.2.0)\n",
            "Requirement already satisfied: docker-pycreds>=0.4.0 in /home/ravil/.local/lib/python3.8/site-packages (from wandb->DI-engine==0.4.4) (0.4.0)\n",
            "Requirement already satisfied: gitdb<5,>=4.0.1 in /home/ravil/.local/lib/python3.8/site-packages (from GitPython>=1.0.0->wandb->DI-engine==0.4.4) (4.0.9)\n",
            "Requirement already satisfied: zipp>=0.5 in /home/ravil/.local/lib/python3.8/site-packages (from importlib-metadata>=4.8.0->gym<0.26.0,>=0.25.1->DI-engine==0.4.4) (3.8.0)\n",
            "Requirement already satisfied: pydantic>=1.9.1 in /home/ravil/.local/lib/python3.8/site-packages (from inflect>=5.2.0->hbutils>=0.5.0->DI-engine==0.4.4) (1.10.2)\n",
            "Requirement already satisfied: commonmark<0.10.0,>=0.9.0 in /home/ravil/.local/lib/python3.8/site-packages (from rich>=12.2.0->DI-toolkit>=0.0.2->DI-engine==0.4.4) (0.9.1)\n",
            "Requirement already satisfied: graphviz~=0.17 in /home/ravil/.local/lib/python3.8/site-packages (from treevalue>=1.4.1->DI-treetensor>=0.4.0->DI-engine==0.4.4) (0.20.1)\n",
            "Requirement already satisfied: dill~=0.3.4 in /home/ravil/.local/lib/python3.8/site-packages (from treevalue>=1.4.1->DI-treetensor>=0.4.0->DI-engine==0.4.4) (0.3.6)\n",
            "Requirement already satisfied: pycparser in /home/ravil/.local/lib/python3.8/site-packages (from cffi->pynng->DI-engine==0.4.4) (2.20)\n",
            "Requirement already satisfied: smmap<6,>=3.0.1 in /home/ravil/.local/lib/python3.8/site-packages (from gitdb<5,>=4.0.1->GitPython>=1.0.0->wandb->DI-engine==0.4.4) (5.0.0)\n",
            "Building wheels for collected packages: DI-engine\n",
            "  Building wheel for DI-engine (setup.py) ... \u001b[?25ldone\n",
            "\u001b[?25h  Created wheel for DI-engine: filename=DI_engine-0.4.4-py3-none-any.whl size=1836380 sha256=ac78f0d3a85dd70ef64e140d46fcbb3f537f9f8baa588686d42f251d95f99d2d\n",
            "  Stored in directory: /home/ravil/.cache/pip/wheels/91/43/65/e9b0b1a285f5ec448c36ffe48df9937a5746672233390fb66c\n",
            "Successfully built DI-engine\n",
            "Installing collected packages: DI-engine\n",
            "  Attempting uninstall: DI-engine\n",
            "    Found existing installation: DI-engine 0.4.4\n",
            "    Uninstalling DI-engine-0.4.4:\n",
            "      Successfully uninstalled DI-engine-0.4.4\n",
            "Successfully installed DI-engine-0.4.4\n",
            "\u001b[33mWARNING: There was an error checking the latest version of pip.\u001b[0m\u001b[33m\n",
            "\u001b[0mNote: you may need to restart the kernel to use updated packages.\n"
          ]
        }
      ],
      "source": [
        "# !git clone https://github.com/opendilab/DI-engine.git\n",
        "%pip install DI-engine/."
      ]
    },
    {
      "cell_type": "markdown",
      "metadata": {
        "id": "X6q_2LtsOmKf"
      },
      "source": [
        "Installation Check"
      ]
    },
    {
      "cell_type": "code",
      "execution_count": 2,
      "metadata": {},
      "outputs": [
        {
          "name": "stdout",
          "output_type": "stream",
          "text": [
            "v0.4.4\n"
          ]
        }
      ],
      "source": [
        "import ding\n",
        "print(ding.__version__)"
      ]
    },
    {
      "cell_type": "markdown",
      "metadata": {},
      "source": [
        "# 1. Data preprocessing"
      ]
    },
    {
      "cell_type": "code",
      "execution_count": 3,
      "metadata": {},
      "outputs": [
        {
          "name": "stdout",
          "output_type": "stream",
          "text": [
            "--2022-11-03 00:29:09--  https://github.com/AminHP/gym-anytrading/blob/master/gym_anytrading/datasets/data/STOCKS_GOOGL.csv\n",
            "Resolving github.com (github.com)... 140.82.121.4\n",
            "Connecting to github.com (github.com)|140.82.121.4|:443... connected.\n",
            "HTTP request sent, awaiting response... 200 OK\n",
            "Length: unspecified [text/html]\n",
            "Saving to: ‘STOCKS_GOOGL.csv’\n",
            "\n",
            "STOCKS_GOOGL.csv        [   <=>              ]   1,00M  1,71MB/s    in 0,6s    \n",
            "\n",
            "2022-11-03 00:29:10 (1,71 MB/s) - ‘STOCKS_GOOGL.csv’ saved [1049412]\n",
            "\n"
          ]
        }
      ],
      "source": [
        "# Download some data, if you need\n",
        "!wget \"https://github.com/AminHP/gym-anytrading/blob/master/gym_anytrading/datasets/data/STOCKS_GOOGL.csv\""
      ]
    },
    {
      "cell_type": "code",
      "execution_count": 4,
      "metadata": {},
      "outputs": [],
      "source": [
        "import os\n",
        "\n",
        "csv_name = 'STOCKS_GOOGL.csv'\n",
        "\n",
        "# check the ding installation folder\n",
        "ding_folder = ding.__file__.split('ding')[0]\n",
        "data_folder = os.path.join(ding_folder, 'dizoo/gym_anytrading/envs/data/STOCKS_GOOGL.csv')  \n",
        "\n",
        "# move data to correct folder\n",
        "os.replace(f\"{csv_name}\", f\"{data_folder}\")"
      ]
    },
    {
      "cell_type": "code",
      "execution_count": 5,
      "metadata": {},
      "outputs": [],
      "source": [
        "# Enhance with custom indicators"
      ]
    },
    {
      "cell_type": "markdown",
      "metadata": {},
      "source": [
        "# 2. Create environment\n"
      ]
    },
    {
      "cell_type": "code",
      "execution_count": 6,
      "metadata": {},
      "outputs": [
        {
          "ename": "ValueError",
          "evalue": "'Date' is not in list",
          "output_type": "error",
          "traceback": [
            "\u001b[0;31m---------------------------------------------------------------------------\u001b[0m",
            "\u001b[0;31mValueError\u001b[0m                                Traceback (most recent call last)",
            "\u001b[0;32m/tmp/ipykernel_40410/19644773.py\u001b[0m in \u001b[0;36m<module>\u001b[0;34m\u001b[0m\n\u001b[1;32m      4\u001b[0m \u001b[0;34m\u001b[0m\u001b[0m\n\u001b[1;32m      5\u001b[0m \u001b[0;34m\u001b[0m\u001b[0m\n\u001b[0;32m----> 6\u001b[0;31m env = StocksEnv(EasyDict({\"env_id\": 'stocks-v0', \"eps_length\": 300,\\\n\u001b[0m\u001b[1;32m      7\u001b[0m             \"window_size\": 20, \"train_range\": None, \"test_range\": None, \"stocks_data_filename\": 'STOCKS_GOOGL'}))\n",
            "\u001b[0;32m~/.local/lib/python3.8/site-packages/dizoo/gym_anytrading/envs/stocks_env.py\u001b[0m in \u001b[0;36m__init__\u001b[0;34m(self, cfg)\u001b[0m\n\u001b[1;32m     17\u001b[0m \u001b[0;34m\u001b[0m\u001b[0m\n\u001b[1;32m     18\u001b[0m         \u001b[0;31m# ====== load Google stocks data =======\u001b[0m\u001b[0;34m\u001b[0m\u001b[0;34m\u001b[0m\u001b[0;34m\u001b[0m\u001b[0m\n\u001b[0;32m---> 19\u001b[0;31m         \u001b[0mraw_data\u001b[0m \u001b[0;34m=\u001b[0m \u001b[0mload_dataset\u001b[0m\u001b[0;34m(\u001b[0m\u001b[0mself\u001b[0m\u001b[0;34m.\u001b[0m\u001b[0m_cfg\u001b[0m\u001b[0;34m.\u001b[0m\u001b[0mstocks_data_filename\u001b[0m\u001b[0;34m,\u001b[0m \u001b[0;34m'Date'\u001b[0m\u001b[0;34m)\u001b[0m\u001b[0;34m\u001b[0m\u001b[0;34m\u001b[0m\u001b[0m\n\u001b[0m\u001b[1;32m     20\u001b[0m         \u001b[0mself\u001b[0m\u001b[0;34m.\u001b[0m\u001b[0mraw_prices\u001b[0m \u001b[0;34m=\u001b[0m \u001b[0mraw_data\u001b[0m\u001b[0;34m.\u001b[0m\u001b[0mloc\u001b[0m\u001b[0;34m[\u001b[0m\u001b[0;34m:\u001b[0m\u001b[0;34m,\u001b[0m \u001b[0;34m'Close'\u001b[0m\u001b[0;34m]\u001b[0m\u001b[0;34m.\u001b[0m\u001b[0mto_numpy\u001b[0m\u001b[0;34m(\u001b[0m\u001b[0;34m)\u001b[0m\u001b[0;34m\u001b[0m\u001b[0;34m\u001b[0m\u001b[0m\n\u001b[1;32m     21\u001b[0m         \u001b[0mEPS\u001b[0m \u001b[0;34m=\u001b[0m \u001b[0;36m1e-10\u001b[0m\u001b[0;34m\u001b[0m\u001b[0;34m\u001b[0m\u001b[0m\n",
            "\u001b[0;32m~/.local/lib/python3.8/site-packages/dizoo/gym_anytrading/envs/trading_env.py\u001b[0m in \u001b[0;36mload_dataset\u001b[0;34m(name, index_name)\u001b[0m\n\u001b[1;32m     27\u001b[0m         \u001b[0mhttps\u001b[0m\u001b[0;34m:\u001b[0m\u001b[0;34m//\u001b[0m\u001b[0mgithub\u001b[0m\u001b[0;34m.\u001b[0m\u001b[0mcom\u001b[0m\u001b[0;34m/\u001b[0m\u001b[0mAminHP\u001b[0m\u001b[0;34m/\u001b[0m\u001b[0mgym\u001b[0m\u001b[0;34m-\u001b[0m\u001b[0manytrading\u001b[0m\u001b[0;34m/\u001b[0m\u001b[0mblob\u001b[0m\u001b[0;34m/\u001b[0m\u001b[0mmaster\u001b[0m\u001b[0;34m/\u001b[0m\u001b[0mgym_anytrading\u001b[0m\u001b[0;34m/\u001b[0m\u001b[0mdatasets\u001b[0m\u001b[0;34m/\u001b[0m\u001b[0mdata\u001b[0m\u001b[0;34m/\u001b[0m\u001b[0mSTOCKS_GOOGL\u001b[0m\u001b[0;34m.\u001b[0m\u001b[0mcsv\u001b[0m\u001b[0;31m\"\u001b[0m\u001b[0;34m\u001b[0m\u001b[0;34m\u001b[0m\u001b[0m\n\u001b[1;32m     28\u001b[0m \u001b[0;34m\u001b[0m\u001b[0m\n\u001b[0;32m---> 29\u001b[0;31m     \u001b[0mdf\u001b[0m \u001b[0;34m=\u001b[0m \u001b[0mpd\u001b[0m\u001b[0;34m.\u001b[0m\u001b[0mread_csv\u001b[0m\u001b[0;34m(\u001b[0m\u001b[0mpath\u001b[0m\u001b[0;34m,\u001b[0m \u001b[0mparse_dates\u001b[0m\u001b[0;34m=\u001b[0m\u001b[0;32mTrue\u001b[0m\u001b[0;34m,\u001b[0m \u001b[0mindex_col\u001b[0m\u001b[0;34m=\u001b[0m\u001b[0mindex_name\u001b[0m\u001b[0;34m)\u001b[0m\u001b[0;34m\u001b[0m\u001b[0;34m\u001b[0m\u001b[0m\n\u001b[0m\u001b[1;32m     30\u001b[0m     \u001b[0;32mreturn\u001b[0m \u001b[0mdf\u001b[0m\u001b[0;34m\u001b[0m\u001b[0;34m\u001b[0m\u001b[0m\n\u001b[1;32m     31\u001b[0m \u001b[0;34m\u001b[0m\u001b[0m\n",
            "\u001b[0;32m~/.local/lib/python3.8/site-packages/pandas/util/_decorators.py\u001b[0m in \u001b[0;36mwrapper\u001b[0;34m(*args, **kwargs)\u001b[0m\n\u001b[1;32m    309\u001b[0m                     \u001b[0mstacklevel\u001b[0m\u001b[0;34m=\u001b[0m\u001b[0mstacklevel\u001b[0m\u001b[0;34m,\u001b[0m\u001b[0;34m\u001b[0m\u001b[0;34m\u001b[0m\u001b[0m\n\u001b[1;32m    310\u001b[0m                 )\n\u001b[0;32m--> 311\u001b[0;31m             \u001b[0;32mreturn\u001b[0m \u001b[0mfunc\u001b[0m\u001b[0;34m(\u001b[0m\u001b[0;34m*\u001b[0m\u001b[0margs\u001b[0m\u001b[0;34m,\u001b[0m \u001b[0;34m**\u001b[0m\u001b[0mkwargs\u001b[0m\u001b[0;34m)\u001b[0m\u001b[0;34m\u001b[0m\u001b[0;34m\u001b[0m\u001b[0m\n\u001b[0m\u001b[1;32m    312\u001b[0m \u001b[0;34m\u001b[0m\u001b[0m\n\u001b[1;32m    313\u001b[0m         \u001b[0;32mreturn\u001b[0m \u001b[0mwrapper\u001b[0m\u001b[0;34m\u001b[0m\u001b[0;34m\u001b[0m\u001b[0m\n",
            "\u001b[0;32m~/.local/lib/python3.8/site-packages/pandas/io/parsers/readers.py\u001b[0m in \u001b[0;36mread_csv\u001b[0;34m(filepath_or_buffer, sep, delimiter, header, names, index_col, usecols, squeeze, prefix, mangle_dupe_cols, dtype, engine, converters, true_values, false_values, skipinitialspace, skiprows, skipfooter, nrows, na_values, keep_default_na, na_filter, verbose, skip_blank_lines, parse_dates, infer_datetime_format, keep_date_col, date_parser, dayfirst, cache_dates, iterator, chunksize, compression, thousands, decimal, lineterminator, quotechar, quoting, doublequote, escapechar, comment, encoding, encoding_errors, dialect, error_bad_lines, warn_bad_lines, on_bad_lines, delim_whitespace, low_memory, memory_map, float_precision, storage_options)\u001b[0m\n\u001b[1;32m    584\u001b[0m     \u001b[0mkwds\u001b[0m\u001b[0;34m.\u001b[0m\u001b[0mupdate\u001b[0m\u001b[0;34m(\u001b[0m\u001b[0mkwds_defaults\u001b[0m\u001b[0;34m)\u001b[0m\u001b[0;34m\u001b[0m\u001b[0;34m\u001b[0m\u001b[0m\n\u001b[1;32m    585\u001b[0m \u001b[0;34m\u001b[0m\u001b[0m\n\u001b[0;32m--> 586\u001b[0;31m     \u001b[0;32mreturn\u001b[0m \u001b[0m_read\u001b[0m\u001b[0;34m(\u001b[0m\u001b[0mfilepath_or_buffer\u001b[0m\u001b[0;34m,\u001b[0m \u001b[0mkwds\u001b[0m\u001b[0;34m)\u001b[0m\u001b[0;34m\u001b[0m\u001b[0;34m\u001b[0m\u001b[0m\n\u001b[0m\u001b[1;32m    587\u001b[0m \u001b[0;34m\u001b[0m\u001b[0m\n\u001b[1;32m    588\u001b[0m \u001b[0;34m\u001b[0m\u001b[0m\n",
            "\u001b[0;32m~/.local/lib/python3.8/site-packages/pandas/io/parsers/readers.py\u001b[0m in \u001b[0;36m_read\u001b[0;34m(filepath_or_buffer, kwds)\u001b[0m\n\u001b[1;32m    480\u001b[0m \u001b[0;34m\u001b[0m\u001b[0m\n\u001b[1;32m    481\u001b[0m     \u001b[0;31m# Create the parser.\u001b[0m\u001b[0;34m\u001b[0m\u001b[0;34m\u001b[0m\u001b[0;34m\u001b[0m\u001b[0m\n\u001b[0;32m--> 482\u001b[0;31m     \u001b[0mparser\u001b[0m \u001b[0;34m=\u001b[0m \u001b[0mTextFileReader\u001b[0m\u001b[0;34m(\u001b[0m\u001b[0mfilepath_or_buffer\u001b[0m\u001b[0;34m,\u001b[0m \u001b[0;34m**\u001b[0m\u001b[0mkwds\u001b[0m\u001b[0;34m)\u001b[0m\u001b[0;34m\u001b[0m\u001b[0;34m\u001b[0m\u001b[0m\n\u001b[0m\u001b[1;32m    483\u001b[0m \u001b[0;34m\u001b[0m\u001b[0m\n\u001b[1;32m    484\u001b[0m     \u001b[0;32mif\u001b[0m \u001b[0mchunksize\u001b[0m \u001b[0;32mor\u001b[0m \u001b[0miterator\u001b[0m\u001b[0;34m:\u001b[0m\u001b[0;34m\u001b[0m\u001b[0;34m\u001b[0m\u001b[0m\n",
            "\u001b[0;32m~/.local/lib/python3.8/site-packages/pandas/io/parsers/readers.py\u001b[0m in \u001b[0;36m__init__\u001b[0;34m(self, f, engine, **kwds)\u001b[0m\n\u001b[1;32m    809\u001b[0m             \u001b[0mself\u001b[0m\u001b[0;34m.\u001b[0m\u001b[0moptions\u001b[0m\u001b[0;34m[\u001b[0m\u001b[0;34m\"has_index_names\"\u001b[0m\u001b[0;34m]\u001b[0m \u001b[0;34m=\u001b[0m \u001b[0mkwds\u001b[0m\u001b[0;34m[\u001b[0m\u001b[0;34m\"has_index_names\"\u001b[0m\u001b[0;34m]\u001b[0m\u001b[0;34m\u001b[0m\u001b[0;34m\u001b[0m\u001b[0m\n\u001b[1;32m    810\u001b[0m \u001b[0;34m\u001b[0m\u001b[0m\n\u001b[0;32m--> 811\u001b[0;31m         \u001b[0mself\u001b[0m\u001b[0;34m.\u001b[0m\u001b[0m_engine\u001b[0m \u001b[0;34m=\u001b[0m \u001b[0mself\u001b[0m\u001b[0;34m.\u001b[0m\u001b[0m_make_engine\u001b[0m\u001b[0;34m(\u001b[0m\u001b[0mself\u001b[0m\u001b[0;34m.\u001b[0m\u001b[0mengine\u001b[0m\u001b[0;34m)\u001b[0m\u001b[0;34m\u001b[0m\u001b[0;34m\u001b[0m\u001b[0m\n\u001b[0m\u001b[1;32m    812\u001b[0m \u001b[0;34m\u001b[0m\u001b[0m\n\u001b[1;32m    813\u001b[0m     \u001b[0;32mdef\u001b[0m \u001b[0mclose\u001b[0m\u001b[0;34m(\u001b[0m\u001b[0mself\u001b[0m\u001b[0;34m)\u001b[0m\u001b[0;34m:\u001b[0m\u001b[0;34m\u001b[0m\u001b[0;34m\u001b[0m\u001b[0m\n",
            "\u001b[0;32m~/.local/lib/python3.8/site-packages/pandas/io/parsers/readers.py\u001b[0m in \u001b[0;36m_make_engine\u001b[0;34m(self, engine)\u001b[0m\n\u001b[1;32m   1038\u001b[0m             )\n\u001b[1;32m   1039\u001b[0m         \u001b[0;31m# error: Too many arguments for \"ParserBase\"\u001b[0m\u001b[0;34m\u001b[0m\u001b[0;34m\u001b[0m\u001b[0;34m\u001b[0m\u001b[0m\n\u001b[0;32m-> 1040\u001b[0;31m         \u001b[0;32mreturn\u001b[0m \u001b[0mmapping\u001b[0m\u001b[0;34m[\u001b[0m\u001b[0mengine\u001b[0m\u001b[0;34m]\u001b[0m\u001b[0;34m(\u001b[0m\u001b[0mself\u001b[0m\u001b[0;34m.\u001b[0m\u001b[0mf\u001b[0m\u001b[0;34m,\u001b[0m \u001b[0;34m**\u001b[0m\u001b[0mself\u001b[0m\u001b[0;34m.\u001b[0m\u001b[0moptions\u001b[0m\u001b[0;34m)\u001b[0m  \u001b[0;31m# type: ignore[call-arg]\u001b[0m\u001b[0;34m\u001b[0m\u001b[0;34m\u001b[0m\u001b[0m\n\u001b[0m\u001b[1;32m   1041\u001b[0m \u001b[0;34m\u001b[0m\u001b[0m\n\u001b[1;32m   1042\u001b[0m     \u001b[0;32mdef\u001b[0m \u001b[0m_failover_to_python\u001b[0m\u001b[0;34m(\u001b[0m\u001b[0mself\u001b[0m\u001b[0;34m)\u001b[0m\u001b[0;34m:\u001b[0m\u001b[0;34m\u001b[0m\u001b[0;34m\u001b[0m\u001b[0m\n",
            "\u001b[0;32m~/.local/lib/python3.8/site-packages/pandas/io/parsers/c_parser_wrapper.py\u001b[0m in \u001b[0;36m__init__\u001b[0;34m(self, src, **kwds)\u001b[0m\n\u001b[1;32m    155\u001b[0m         \u001b[0;31m# error: Cannot determine type of 'names'\u001b[0m\u001b[0;34m\u001b[0m\u001b[0;34m\u001b[0m\u001b[0;34m\u001b[0m\u001b[0m\n\u001b[1;32m    156\u001b[0m         \u001b[0mself\u001b[0m\u001b[0;34m.\u001b[0m\u001b[0m_validate_parse_dates_presence\u001b[0m\u001b[0;34m(\u001b[0m\u001b[0mself\u001b[0m\u001b[0;34m.\u001b[0m\u001b[0mnames\u001b[0m\u001b[0;34m)\u001b[0m  \u001b[0;31m# type: ignore[has-type]\u001b[0m\u001b[0;34m\u001b[0m\u001b[0;34m\u001b[0m\u001b[0m\n\u001b[0;32m--> 157\u001b[0;31m         \u001b[0mself\u001b[0m\u001b[0;34m.\u001b[0m\u001b[0m_set_noconvert_columns\u001b[0m\u001b[0;34m(\u001b[0m\u001b[0;34m)\u001b[0m\u001b[0;34m\u001b[0m\u001b[0;34m\u001b[0m\u001b[0m\n\u001b[0m\u001b[1;32m    158\u001b[0m \u001b[0;34m\u001b[0m\u001b[0m\n\u001b[1;32m    159\u001b[0m         \u001b[0;31m# error: Cannot determine type of 'names'\u001b[0m\u001b[0;34m\u001b[0m\u001b[0;34m\u001b[0m\u001b[0;34m\u001b[0m\u001b[0m\n",
            "\u001b[0;32m~/.local/lib/python3.8/site-packages/pandas/io/parsers/c_parser_wrapper.py\u001b[0m in \u001b[0;36m_set_noconvert_columns\u001b[0;34m(self)\u001b[0m\n\u001b[1;32m    211\u001b[0m         ]\n\u001b[1;32m    212\u001b[0m         \u001b[0;31m# error: Cannot determine type of 'names'\u001b[0m\u001b[0;34m\u001b[0m\u001b[0;34m\u001b[0m\u001b[0;34m\u001b[0m\u001b[0m\n\u001b[0;32m--> 213\u001b[0;31m         noconvert_columns = self._set_noconvert_dtype_columns(\n\u001b[0m\u001b[1;32m    214\u001b[0m             \u001b[0mcol_indices\u001b[0m\u001b[0;34m,\u001b[0m\u001b[0;34m\u001b[0m\u001b[0;34m\u001b[0m\u001b[0m\n\u001b[1;32m    215\u001b[0m             \u001b[0mself\u001b[0m\u001b[0;34m.\u001b[0m\u001b[0mnames\u001b[0m\u001b[0;34m,\u001b[0m  \u001b[0;31m# type: ignore[has-type]\u001b[0m\u001b[0;34m\u001b[0m\u001b[0;34m\u001b[0m\u001b[0m\n",
            "\u001b[0;32m~/.local/lib/python3.8/site-packages/pandas/io/parsers/base_parser.py\u001b[0m in \u001b[0;36m_set_noconvert_dtype_columns\u001b[0;34m(self, col_indices, names)\u001b[0m\n\u001b[1;32m    666\u001b[0m             \u001b[0;32mif\u001b[0m \u001b[0misinstance\u001b[0m\u001b[0;34m(\u001b[0m\u001b[0mself\u001b[0m\u001b[0;34m.\u001b[0m\u001b[0mindex_col\u001b[0m\u001b[0;34m,\u001b[0m \u001b[0mlist\u001b[0m\u001b[0;34m)\u001b[0m\u001b[0;34m:\u001b[0m\u001b[0;34m\u001b[0m\u001b[0;34m\u001b[0m\u001b[0m\n\u001b[1;32m    667\u001b[0m                 \u001b[0;32mfor\u001b[0m \u001b[0mk\u001b[0m \u001b[0;32min\u001b[0m \u001b[0mself\u001b[0m\u001b[0;34m.\u001b[0m\u001b[0mindex_col\u001b[0m\u001b[0;34m:\u001b[0m\u001b[0;34m\u001b[0m\u001b[0;34m\u001b[0m\u001b[0m\n\u001b[0;32m--> 668\u001b[0;31m                     \u001b[0mnoconvert_columns\u001b[0m\u001b[0;34m.\u001b[0m\u001b[0madd\u001b[0m\u001b[0;34m(\u001b[0m\u001b[0m_set\u001b[0m\u001b[0;34m(\u001b[0m\u001b[0mk\u001b[0m\u001b[0;34m)\u001b[0m\u001b[0;34m)\u001b[0m\u001b[0;34m\u001b[0m\u001b[0;34m\u001b[0m\u001b[0m\n\u001b[0m\u001b[1;32m    669\u001b[0m             \u001b[0;32melif\u001b[0m \u001b[0mself\u001b[0m\u001b[0;34m.\u001b[0m\u001b[0mindex_col\u001b[0m \u001b[0;32mis\u001b[0m \u001b[0;32mnot\u001b[0m \u001b[0;32mNone\u001b[0m\u001b[0;34m:\u001b[0m\u001b[0;34m\u001b[0m\u001b[0;34m\u001b[0m\u001b[0m\n\u001b[1;32m    670\u001b[0m                 \u001b[0mnoconvert_columns\u001b[0m\u001b[0;34m.\u001b[0m\u001b[0madd\u001b[0m\u001b[0;34m(\u001b[0m\u001b[0m_set\u001b[0m\u001b[0;34m(\u001b[0m\u001b[0mself\u001b[0m\u001b[0;34m.\u001b[0m\u001b[0mindex_col\u001b[0m\u001b[0;34m)\u001b[0m\u001b[0;34m)\u001b[0m\u001b[0;34m\u001b[0m\u001b[0;34m\u001b[0m\u001b[0m\n",
            "\u001b[0;32m~/.local/lib/python3.8/site-packages/pandas/io/parsers/base_parser.py\u001b[0m in \u001b[0;36m_set\u001b[0;34m(x)\u001b[0m\n\u001b[1;32m    643\u001b[0m \u001b[0;34m\u001b[0m\u001b[0m\n\u001b[1;32m    644\u001b[0m             \u001b[0;32mif\u001b[0m \u001b[0;32mnot\u001b[0m \u001b[0mis_integer\u001b[0m\u001b[0;34m(\u001b[0m\u001b[0mx\u001b[0m\u001b[0;34m)\u001b[0m\u001b[0;34m:\u001b[0m\u001b[0;34m\u001b[0m\u001b[0;34m\u001b[0m\u001b[0m\n\u001b[0;32m--> 645\u001b[0;31m                 \u001b[0mx\u001b[0m \u001b[0;34m=\u001b[0m \u001b[0mcol_indices\u001b[0m\u001b[0;34m[\u001b[0m\u001b[0mnames\u001b[0m\u001b[0;34m.\u001b[0m\u001b[0mindex\u001b[0m\u001b[0;34m(\u001b[0m\u001b[0mx\u001b[0m\u001b[0;34m)\u001b[0m\u001b[0;34m]\u001b[0m\u001b[0;34m\u001b[0m\u001b[0;34m\u001b[0m\u001b[0m\n\u001b[0m\u001b[1;32m    646\u001b[0m \u001b[0;34m\u001b[0m\u001b[0m\n\u001b[1;32m    647\u001b[0m             \u001b[0;32mreturn\u001b[0m \u001b[0mx\u001b[0m\u001b[0;34m\u001b[0m\u001b[0;34m\u001b[0m\u001b[0m\n",
            "\u001b[0;31mValueError\u001b[0m: 'Date' is not in list"
          ]
        }
      ],
      "source": [
        "import numpy as np\n",
        "from easydict import EasyDict\n",
        "from dizoo.gym_anytrading.envs import StocksEnv\n",
        "\n",
        "# There is a bug, so it won't work yet\n",
        "env = StocksEnv(EasyDict({\"env_id\": 'stocks-v0', \"eps_length\": 300,\\\n",
        "            \"window_size\": 20, \"train_range\": None, \"test_range\": None, \"stocks_data_filename\": 'STOCKS_GOOGL'}))"
      ]
    },
    {
      "cell_type": "markdown",
      "metadata": {},
      "source": [
        "# Next tasks:\n",
        "1) Add code for dataloading\n",
        "2) Understand, how to add new indicators\n",
        "3) Understand, how to use new models"
      ]
    }
  ],
  "metadata": {
    "colab": {
      "collapsed_sections": [],
      "provenance": []
    },
    "kernelspec": {
      "display_name": "Python 3.8.10 64-bit",
      "language": "python",
      "name": "python3"
    },
    "language_info": {
      "codemirror_mode": {
        "name": "ipython",
        "version": 3
      },
      "file_extension": ".py",
      "mimetype": "text/x-python",
      "name": "python",
      "nbconvert_exporter": "python",
      "pygments_lexer": "ipython3",
      "version": "3.8.10"
    },
    "vscode": {
      "interpreter": {
        "hash": "916dbcbb3f70747c44a77c7bcd40155683ae19c65e1c03b4aa3499c5328201f1"
      }
    }
  },
  "nbformat": 4,
  "nbformat_minor": 0
}
