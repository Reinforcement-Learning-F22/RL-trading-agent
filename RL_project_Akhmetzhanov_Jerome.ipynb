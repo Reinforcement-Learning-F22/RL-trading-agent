{
  "cells": [
    {
      "cell_type": "markdown",
      "metadata": {
        "id": "jS7AVIPyKJTC"
      },
      "source": [
        "# 0. Install and Import dependencies"
      ]
    },
    {
      "cell_type": "markdown",
      "metadata": {
        "id": "8E2d3x4CODWV"
      },
      "source": [
        "We will use the most advanced environment for RL-trading task - DI-engine/gym-anytrade. It's a part of DI-engine RL framework, which contains a lot of environments inside."
      ]
    },
    {
      "cell_type": "markdown",
      "metadata": {},
      "source": [
        "Important note - tensorflow==1.15.0 works only with Python 3.7 and below"
      ]
    },
    {
      "cell_type": "code",
      "execution_count": null,
      "metadata": {
        "colab": {
          "base_uri": "https://localhost:8080/"
        },
        "id": "_ATpJ4CRJ1Hf",
        "outputId": "85dda76b-1564-4668-eac9-182add9eefd0"
      },
      "outputs": [],
      "source": [
        "# !git clone https://github.com/opendilab/DI-engine.git\n",
        "%pip install DI-engine/.\n",
        "\n",
        "%pip install stable-baselines finta tensorflow-gpu==1.15.0 tensorflow==1.15.0 "
      ]
    },
    {
      "cell_type": "markdown",
      "metadata": {
        "id": "X6q_2LtsOmKf"
      },
      "source": [
        "Installation Check"
      ]
    },
    {
      "cell_type": "code",
      "execution_count": null,
      "metadata": {},
      "outputs": [],
      "source": [
        "import gym\n",
        "\n",
        "# Stable baselines - rl stuff.\n",
        "from stable_baselines.common.vec_env import DummyVecEnv\n",
        "from stable_baselines import A2C\n",
        "\n",
        "# Processing libraries.\n",
        "import numpy as np\n",
        "import pandas as pd\n",
        "from matplotlib import pyplot as plt\n",
        "\n",
        "# Finta is needed to calculate Market Custom indicators.\n",
        "from finta import TA\n",
        "\n",
        "import ding\n",
        "print(ding.__version__)"
      ]
    },
    {
      "cell_type": "markdown",
      "metadata": {},
      "source": [
        "# 1. Data preprocessing"
      ]
    },
    {
      "cell_type": "code",
      "execution_count": null,
      "metadata": {},
      "outputs": [],
      "source": [
        "# Download some data, if you need\n",
        "!wget https://github.com/AminHP/gym-anytrading/blob/master/gym_anytrading/datasets/data/STOCKS_GOOGL.csv"
      ]
    },
    {
      "cell_type": "code",
      "execution_count": null,
      "metadata": {},
      "outputs": [],
      "source": [
        "import os\n",
        "\n",
        "csv_name = 'STOCKS_GOOGL.csv'\n",
        "\n",
        "# check the ding installation folder\n",
        "ding_folder = ding.__file__.split('ding')[0]\n",
        "data_folder = os.path.join(ding_folder, 'dizoo/gym_anytrading/envs/data/STOCKS_GOOGL.csv')  \n",
        "\n",
        "# move data to correct folder\n",
        "os.replace(f\"{csv_name}\", f\"{data_folder}\")"
      ]
    },
    {
      "cell_type": "code",
      "execution_count": null,
      "metadata": {},
      "outputs": [],
      "source": [
        "# Enhance with custom indicators using FINTA"
      ]
    },
    {
      "cell_type": "markdown",
      "metadata": {},
      "source": [
        "# 2. Create new environment\n"
      ]
    },
    {
      "cell_type": "code",
      "execution_count": null,
      "metadata": {},
      "outputs": [],
      "source": [
        "import numpy as np\n",
        "from easydict import EasyDict\n",
        "from dizoo.gym_anytrading.envs import StocksEnv\n",
        "\n",
        "env = StocksEnv(EasyDict({\"env_id\": 'stocks-v0', \"eps_length\": 300,\\\n",
        "            \"window_size\": 20, \"train_range\": None, \"test_range\": None, \"stocks_data_filename\": 'STOCKS_GOOGL'}))"
      ]
    },
    {
      "cell_type": "code",
      "execution_count": null,
      "metadata": {},
      "outputs": [],
      "source": [
        "env"
      ]
    },
    {
      "cell_type": "markdown",
      "metadata": {},
      "source": [
        "### Indicators can be added by overriding _process_data method."
      ]
    },
    {
      "cell_type": "markdown",
      "metadata": {},
      "source": [
        "# 3. Build Environment and Train"
      ]
    },
    {
      "cell_type": "code",
      "execution_count": null,
      "metadata": {},
      "outputs": [],
      "source": [
        "env = DummyVecEnv([env])\n",
        "model = A2C('MlpLstmPolicy', env, verbose=1) \n",
        "model.learn(total_timesteps=1000000)"
      ]
    },
    {
      "cell_type": "markdown",
      "metadata": {},
      "source": [
        "# Next tasks:\n",
        "1) Fix package bugs"
      ]
    }
  ],
  "metadata": {
    "colab": {
      "collapsed_sections": [],
      "provenance": []
    },
    "kernelspec": {
      "display_name": "Python 3.7.15 64-bit",
      "language": "python",
      "name": "python3"
    },
    "language_info": {
      "codemirror_mode": {
        "name": "ipython",
        "version": 3
      },
      "file_extension": ".py",
      "mimetype": "text/x-python",
      "name": "python",
      "nbconvert_exporter": "python",
      "pygments_lexer": "ipython3",
      "version": "3.7.15"
    },
    "vscode": {
      "interpreter": {
        "hash": "e5030792b3492f6b12d94f1f48beca3d8e59ec05fd59d0aaaa48e684281ed297"
      }
    }
  },
  "nbformat": 4,
  "nbformat_minor": 0
}
